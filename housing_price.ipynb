{
 "cells": [
  {
   "cell_type": "code",
   "execution_count": 1,
   "metadata": {},
   "outputs": [
    {
     "name": "stdout",
     "output_type": "stream",
     "text": [
      "C:\\Users\\lenovo\\Desktop\\dataset\n"
     ]
    }
   ],
   "source": [
    "cd C:\\Users\\lenovo\\Desktop\\dataset"
   ]
  },
  {
   "cell_type": "code",
   "execution_count": 2,
   "metadata": {},
   "outputs": [],
   "source": [
    "import pandas as pd\n",
    "import numpy as np\n"
   ]
  },
  {
   "cell_type": "code",
   "execution_count": 3,
   "metadata": {},
   "outputs": [
    {
     "data": {
      "text/html": [
       "<div>\n",
       "<style scoped>\n",
       "    .dataframe tbody tr th:only-of-type {\n",
       "        vertical-align: middle;\n",
       "    }\n",
       "\n",
       "    .dataframe tbody tr th {\n",
       "        vertical-align: top;\n",
       "    }\n",
       "\n",
       "    .dataframe thead th {\n",
       "        text-align: right;\n",
       "    }\n",
       "</style>\n",
       "<table border=\"1\" class=\"dataframe\">\n",
       "  <thead>\n",
       "    <tr style=\"text-align: right;\">\n",
       "      <th></th>\n",
       "      <th>longitude</th>\n",
       "      <th>latitude</th>\n",
       "      <th>housing_median_age</th>\n",
       "      <th>total_rooms</th>\n",
       "      <th>total_bedrooms</th>\n",
       "      <th>population</th>\n",
       "      <th>households</th>\n",
       "      <th>median_income</th>\n",
       "      <th>median_house_value</th>\n",
       "      <th>ocean_proximity</th>\n",
       "    </tr>\n",
       "  </thead>\n",
       "  <tbody>\n",
       "    <tr>\n",
       "      <td>0</td>\n",
       "      <td>-122.23</td>\n",
       "      <td>37.88</td>\n",
       "      <td>41.0</td>\n",
       "      <td>880.0</td>\n",
       "      <td>129.0</td>\n",
       "      <td>322.0</td>\n",
       "      <td>126.0</td>\n",
       "      <td>8.3252</td>\n",
       "      <td>452600.0</td>\n",
       "      <td>NEAR BAY</td>\n",
       "    </tr>\n",
       "    <tr>\n",
       "      <td>1</td>\n",
       "      <td>-122.22</td>\n",
       "      <td>37.86</td>\n",
       "      <td>21.0</td>\n",
       "      <td>7099.0</td>\n",
       "      <td>1106.0</td>\n",
       "      <td>2401.0</td>\n",
       "      <td>1138.0</td>\n",
       "      <td>8.3014</td>\n",
       "      <td>358500.0</td>\n",
       "      <td>NEAR BAY</td>\n",
       "    </tr>\n",
       "    <tr>\n",
       "      <td>2</td>\n",
       "      <td>-122.24</td>\n",
       "      <td>37.85</td>\n",
       "      <td>52.0</td>\n",
       "      <td>1467.0</td>\n",
       "      <td>190.0</td>\n",
       "      <td>496.0</td>\n",
       "      <td>177.0</td>\n",
       "      <td>7.2574</td>\n",
       "      <td>352100.0</td>\n",
       "      <td>NEAR BAY</td>\n",
       "    </tr>\n",
       "    <tr>\n",
       "      <td>3</td>\n",
       "      <td>-122.25</td>\n",
       "      <td>37.85</td>\n",
       "      <td>52.0</td>\n",
       "      <td>1274.0</td>\n",
       "      <td>235.0</td>\n",
       "      <td>558.0</td>\n",
       "      <td>219.0</td>\n",
       "      <td>5.6431</td>\n",
       "      <td>341300.0</td>\n",
       "      <td>NEAR BAY</td>\n",
       "    </tr>\n",
       "    <tr>\n",
       "      <td>4</td>\n",
       "      <td>-122.25</td>\n",
       "      <td>37.85</td>\n",
       "      <td>52.0</td>\n",
       "      <td>1627.0</td>\n",
       "      <td>280.0</td>\n",
       "      <td>565.0</td>\n",
       "      <td>259.0</td>\n",
       "      <td>3.8462</td>\n",
       "      <td>342200.0</td>\n",
       "      <td>NEAR BAY</td>\n",
       "    </tr>\n",
       "    <tr>\n",
       "      <td>...</td>\n",
       "      <td>...</td>\n",
       "      <td>...</td>\n",
       "      <td>...</td>\n",
       "      <td>...</td>\n",
       "      <td>...</td>\n",
       "      <td>...</td>\n",
       "      <td>...</td>\n",
       "      <td>...</td>\n",
       "      <td>...</td>\n",
       "      <td>...</td>\n",
       "    </tr>\n",
       "    <tr>\n",
       "      <td>20635</td>\n",
       "      <td>-121.09</td>\n",
       "      <td>39.48</td>\n",
       "      <td>25.0</td>\n",
       "      <td>1665.0</td>\n",
       "      <td>374.0</td>\n",
       "      <td>845.0</td>\n",
       "      <td>330.0</td>\n",
       "      <td>1.5603</td>\n",
       "      <td>78100.0</td>\n",
       "      <td>INLAND</td>\n",
       "    </tr>\n",
       "    <tr>\n",
       "      <td>20636</td>\n",
       "      <td>-121.21</td>\n",
       "      <td>39.49</td>\n",
       "      <td>18.0</td>\n",
       "      <td>697.0</td>\n",
       "      <td>150.0</td>\n",
       "      <td>356.0</td>\n",
       "      <td>114.0</td>\n",
       "      <td>2.5568</td>\n",
       "      <td>77100.0</td>\n",
       "      <td>INLAND</td>\n",
       "    </tr>\n",
       "    <tr>\n",
       "      <td>20637</td>\n",
       "      <td>-121.22</td>\n",
       "      <td>39.43</td>\n",
       "      <td>17.0</td>\n",
       "      <td>2254.0</td>\n",
       "      <td>485.0</td>\n",
       "      <td>1007.0</td>\n",
       "      <td>433.0</td>\n",
       "      <td>1.7000</td>\n",
       "      <td>92300.0</td>\n",
       "      <td>INLAND</td>\n",
       "    </tr>\n",
       "    <tr>\n",
       "      <td>20638</td>\n",
       "      <td>-121.32</td>\n",
       "      <td>39.43</td>\n",
       "      <td>18.0</td>\n",
       "      <td>1860.0</td>\n",
       "      <td>409.0</td>\n",
       "      <td>741.0</td>\n",
       "      <td>349.0</td>\n",
       "      <td>1.8672</td>\n",
       "      <td>84700.0</td>\n",
       "      <td>INLAND</td>\n",
       "    </tr>\n",
       "    <tr>\n",
       "      <td>20639</td>\n",
       "      <td>-121.24</td>\n",
       "      <td>39.37</td>\n",
       "      <td>16.0</td>\n",
       "      <td>2785.0</td>\n",
       "      <td>616.0</td>\n",
       "      <td>1387.0</td>\n",
       "      <td>530.0</td>\n",
       "      <td>2.3886</td>\n",
       "      <td>89400.0</td>\n",
       "      <td>INLAND</td>\n",
       "    </tr>\n",
       "  </tbody>\n",
       "</table>\n",
       "<p>20640 rows × 10 columns</p>\n",
       "</div>"
      ],
      "text/plain": [
       "       longitude  latitude  housing_median_age  total_rooms  total_bedrooms  \\\n",
       "0        -122.23     37.88                41.0        880.0           129.0   \n",
       "1        -122.22     37.86                21.0       7099.0          1106.0   \n",
       "2        -122.24     37.85                52.0       1467.0           190.0   \n",
       "3        -122.25     37.85                52.0       1274.0           235.0   \n",
       "4        -122.25     37.85                52.0       1627.0           280.0   \n",
       "...          ...       ...                 ...          ...             ...   \n",
       "20635    -121.09     39.48                25.0       1665.0           374.0   \n",
       "20636    -121.21     39.49                18.0        697.0           150.0   \n",
       "20637    -121.22     39.43                17.0       2254.0           485.0   \n",
       "20638    -121.32     39.43                18.0       1860.0           409.0   \n",
       "20639    -121.24     39.37                16.0       2785.0           616.0   \n",
       "\n",
       "       population  households  median_income  median_house_value  \\\n",
       "0           322.0       126.0         8.3252            452600.0   \n",
       "1          2401.0      1138.0         8.3014            358500.0   \n",
       "2           496.0       177.0         7.2574            352100.0   \n",
       "3           558.0       219.0         5.6431            341300.0   \n",
       "4           565.0       259.0         3.8462            342200.0   \n",
       "...           ...         ...            ...                 ...   \n",
       "20635       845.0       330.0         1.5603             78100.0   \n",
       "20636       356.0       114.0         2.5568             77100.0   \n",
       "20637      1007.0       433.0         1.7000             92300.0   \n",
       "20638       741.0       349.0         1.8672             84700.0   \n",
       "20639      1387.0       530.0         2.3886             89400.0   \n",
       "\n",
       "      ocean_proximity  \n",
       "0            NEAR BAY  \n",
       "1            NEAR BAY  \n",
       "2            NEAR BAY  \n",
       "3            NEAR BAY  \n",
       "4            NEAR BAY  \n",
       "...               ...  \n",
       "20635          INLAND  \n",
       "20636          INLAND  \n",
       "20637          INLAND  \n",
       "20638          INLAND  \n",
       "20639          INLAND  \n",
       "\n",
       "[20640 rows x 10 columns]"
      ]
     },
     "execution_count": 3,
     "metadata": {},
     "output_type": "execute_result"
    }
   ],
   "source": [
    "df = pd.read_csv('housing.csv')\n",
    "df"
   ]
  },
  {
   "cell_type": "code",
   "execution_count": 4,
   "metadata": {},
   "outputs": [
    {
     "data": {
      "text/plain": [
       "['longitude',\n",
       " 'latitude',\n",
       " 'housing_median_age',\n",
       " 'total_rooms',\n",
       " 'total_bedrooms',\n",
       " 'population',\n",
       " 'households',\n",
       " 'median_income',\n",
       " 'median_house_value',\n",
       " 'ocean_proximity']"
      ]
     },
     "execution_count": 4,
     "metadata": {},
     "output_type": "execute_result"
    }
   ],
   "source": [
    "list(df.columns)"
   ]
  },
  {
   "cell_type": "code",
   "execution_count": 5,
   "metadata": {},
   "outputs": [
    {
     "name": "stdout",
     "output_type": "stream",
     "text": [
      "<class 'pandas.core.frame.DataFrame'>\n",
      "RangeIndex: 20640 entries, 0 to 20639\n",
      "Data columns (total 10 columns):\n",
      "longitude             20640 non-null float64\n",
      "latitude              20640 non-null float64\n",
      "housing_median_age    20640 non-null float64\n",
      "total_rooms           20640 non-null float64\n",
      "total_bedrooms        20433 non-null float64\n",
      "population            20640 non-null float64\n",
      "households            20640 non-null float64\n",
      "median_income         20640 non-null float64\n",
      "median_house_value    20640 non-null float64\n",
      "ocean_proximity       20640 non-null object\n",
      "dtypes: float64(9), object(1)\n",
      "memory usage: 1.6+ MB\n"
     ]
    }
   ],
   "source": [
    "df.info()"
   ]
  },
  {
   "cell_type": "code",
   "execution_count": 6,
   "metadata": {},
   "outputs": [
    {
     "data": {
      "text/plain": [
       "<1H OCEAN     9136\n",
       "INLAND        6551\n",
       "NEAR OCEAN    2658\n",
       "NEAR BAY      2290\n",
       "ISLAND           5\n",
       "Name: ocean_proximity, dtype: int64"
      ]
     },
     "execution_count": 6,
     "metadata": {},
     "output_type": "execute_result"
    }
   ],
   "source": [
    "df['ocean_proximity'].value_counts()"
   ]
  },
  {
   "cell_type": "code",
   "execution_count": 7,
   "metadata": {},
   "outputs": [
    {
     "data": {
      "text/html": [
       "<div>\n",
       "<style scoped>\n",
       "    .dataframe tbody tr th:only-of-type {\n",
       "        vertical-align: middle;\n",
       "    }\n",
       "\n",
       "    .dataframe tbody tr th {\n",
       "        vertical-align: top;\n",
       "    }\n",
       "\n",
       "    .dataframe thead th {\n",
       "        text-align: right;\n",
       "    }\n",
       "</style>\n",
       "<table border=\"1\" class=\"dataframe\">\n",
       "  <thead>\n",
       "    <tr style=\"text-align: right;\">\n",
       "      <th></th>\n",
       "      <th>longitude</th>\n",
       "      <th>latitude</th>\n",
       "      <th>housing_median_age</th>\n",
       "      <th>total_rooms</th>\n",
       "      <th>total_bedrooms</th>\n",
       "      <th>population</th>\n",
       "      <th>households</th>\n",
       "      <th>median_income</th>\n",
       "      <th>median_house_value</th>\n",
       "    </tr>\n",
       "  </thead>\n",
       "  <tbody>\n",
       "    <tr>\n",
       "      <td>count</td>\n",
       "      <td>20640.000000</td>\n",
       "      <td>20640.000000</td>\n",
       "      <td>20640.000000</td>\n",
       "      <td>20640.000000</td>\n",
       "      <td>20433.000000</td>\n",
       "      <td>20640.000000</td>\n",
       "      <td>20640.000000</td>\n",
       "      <td>20640.000000</td>\n",
       "      <td>20640.000000</td>\n",
       "    </tr>\n",
       "    <tr>\n",
       "      <td>mean</td>\n",
       "      <td>-119.569704</td>\n",
       "      <td>35.631861</td>\n",
       "      <td>28.639486</td>\n",
       "      <td>2635.763081</td>\n",
       "      <td>537.870553</td>\n",
       "      <td>1425.476744</td>\n",
       "      <td>499.539680</td>\n",
       "      <td>3.870671</td>\n",
       "      <td>206855.816909</td>\n",
       "    </tr>\n",
       "    <tr>\n",
       "      <td>std</td>\n",
       "      <td>2.003532</td>\n",
       "      <td>2.135952</td>\n",
       "      <td>12.585558</td>\n",
       "      <td>2181.615252</td>\n",
       "      <td>421.385070</td>\n",
       "      <td>1132.462122</td>\n",
       "      <td>382.329753</td>\n",
       "      <td>1.899822</td>\n",
       "      <td>115395.615874</td>\n",
       "    </tr>\n",
       "    <tr>\n",
       "      <td>min</td>\n",
       "      <td>-124.350000</td>\n",
       "      <td>32.540000</td>\n",
       "      <td>1.000000</td>\n",
       "      <td>2.000000</td>\n",
       "      <td>1.000000</td>\n",
       "      <td>3.000000</td>\n",
       "      <td>1.000000</td>\n",
       "      <td>0.499900</td>\n",
       "      <td>14999.000000</td>\n",
       "    </tr>\n",
       "    <tr>\n",
       "      <td>25%</td>\n",
       "      <td>-121.800000</td>\n",
       "      <td>33.930000</td>\n",
       "      <td>18.000000</td>\n",
       "      <td>1447.750000</td>\n",
       "      <td>296.000000</td>\n",
       "      <td>787.000000</td>\n",
       "      <td>280.000000</td>\n",
       "      <td>2.563400</td>\n",
       "      <td>119600.000000</td>\n",
       "    </tr>\n",
       "    <tr>\n",
       "      <td>50%</td>\n",
       "      <td>-118.490000</td>\n",
       "      <td>34.260000</td>\n",
       "      <td>29.000000</td>\n",
       "      <td>2127.000000</td>\n",
       "      <td>435.000000</td>\n",
       "      <td>1166.000000</td>\n",
       "      <td>409.000000</td>\n",
       "      <td>3.534800</td>\n",
       "      <td>179700.000000</td>\n",
       "    </tr>\n",
       "    <tr>\n",
       "      <td>75%</td>\n",
       "      <td>-118.010000</td>\n",
       "      <td>37.710000</td>\n",
       "      <td>37.000000</td>\n",
       "      <td>3148.000000</td>\n",
       "      <td>647.000000</td>\n",
       "      <td>1725.000000</td>\n",
       "      <td>605.000000</td>\n",
       "      <td>4.743250</td>\n",
       "      <td>264725.000000</td>\n",
       "    </tr>\n",
       "    <tr>\n",
       "      <td>max</td>\n",
       "      <td>-114.310000</td>\n",
       "      <td>41.950000</td>\n",
       "      <td>52.000000</td>\n",
       "      <td>39320.000000</td>\n",
       "      <td>6445.000000</td>\n",
       "      <td>35682.000000</td>\n",
       "      <td>6082.000000</td>\n",
       "      <td>15.000100</td>\n",
       "      <td>500001.000000</td>\n",
       "    </tr>\n",
       "  </tbody>\n",
       "</table>\n",
       "</div>"
      ],
      "text/plain": [
       "          longitude      latitude  housing_median_age   total_rooms  \\\n",
       "count  20640.000000  20640.000000        20640.000000  20640.000000   \n",
       "mean    -119.569704     35.631861           28.639486   2635.763081   \n",
       "std        2.003532      2.135952           12.585558   2181.615252   \n",
       "min     -124.350000     32.540000            1.000000      2.000000   \n",
       "25%     -121.800000     33.930000           18.000000   1447.750000   \n",
       "50%     -118.490000     34.260000           29.000000   2127.000000   \n",
       "75%     -118.010000     37.710000           37.000000   3148.000000   \n",
       "max     -114.310000     41.950000           52.000000  39320.000000   \n",
       "\n",
       "       total_bedrooms    population    households  median_income  \\\n",
       "count    20433.000000  20640.000000  20640.000000   20640.000000   \n",
       "mean       537.870553   1425.476744    499.539680       3.870671   \n",
       "std        421.385070   1132.462122    382.329753       1.899822   \n",
       "min          1.000000      3.000000      1.000000       0.499900   \n",
       "25%        296.000000    787.000000    280.000000       2.563400   \n",
       "50%        435.000000   1166.000000    409.000000       3.534800   \n",
       "75%        647.000000   1725.000000    605.000000       4.743250   \n",
       "max       6445.000000  35682.000000   6082.000000      15.000100   \n",
       "\n",
       "       median_house_value  \n",
       "count        20640.000000  \n",
       "mean        206855.816909  \n",
       "std         115395.615874  \n",
       "min          14999.000000  \n",
       "25%         119600.000000  \n",
       "50%         179700.000000  \n",
       "75%         264725.000000  \n",
       "max         500001.000000  "
      ]
     },
     "execution_count": 7,
     "metadata": {},
     "output_type": "execute_result"
    }
   ],
   "source": [
    "df.describe()"
   ]
  },
  {
   "cell_type": "code",
   "execution_count": 8,
   "metadata": {},
   "outputs": [
    {
     "data": {
      "text/plain": [
       "array([[<matplotlib.axes._subplots.AxesSubplot object at 0x000002135B108C08>,\n",
       "        <matplotlib.axes._subplots.AxesSubplot object at 0x000002135B81B948>,\n",
       "        <matplotlib.axes._subplots.AxesSubplot object at 0x000002135B856888>],\n",
       "       [<matplotlib.axes._subplots.AxesSubplot object at 0x000002135B88E9C8>,\n",
       "        <matplotlib.axes._subplots.AxesSubplot object at 0x000002135B8C7B08>,\n",
       "        <matplotlib.axes._subplots.AxesSubplot object at 0x000002135B8FFB48>],\n",
       "       [<matplotlib.axes._subplots.AxesSubplot object at 0x000002135B937C48>,\n",
       "        <matplotlib.axes._subplots.AxesSubplot object at 0x000002135B970D88>,\n",
       "        <matplotlib.axes._subplots.AxesSubplot object at 0x000002135B97B988>]],\n",
       "      dtype=object)"
      ]
     },
     "execution_count": 8,
     "metadata": {},
     "output_type": "execute_result"
    },
    {
     "data": {
      "image/png": "[encoded data removed]",
      "text/plain": [
       "<Figure size 1440x1440 with 9 Axes>"
      ]
     },
     "metadata": {
      "needs_background": "light"
     },
     "output_type": "display_data"
    }
   ],
   "source": [
    "%matplotlib inline \n",
    "import matplotlib.pyplot as Plt\n",
    "df.hist(bins =50,figsize = (20,20),edgecolor = 'k')"
   ]
  },
  {
   "cell_type": "code",
   "execution_count": 9,
   "metadata": {},
   "outputs": [
    {
     "data": {
      "text/plain": [
       "<matplotlib.axes._subplots.AxesSubplot at 0x2135be1dc48>"
      ]
     },
     "execution_count": 9,
     "metadata": {},
     "output_type": "execute_result"
    },
    {
     "data": {
      "image/png": "[encoded data removed]",
      "text/plain": [
       "<Figure size 432x288 with 1 Axes>"
      ]
     },
     "metadata": {
      "needs_background": "light"
     },
     "output_type": "display_data"
    }
   ],
   "source": [
    "df['households'].plot(kind = 'hist',xlim =(1000,5000),ylim = (0,5000))"
   ]
  },
  {
   "cell_type": "code",
   "execution_count": 10,
   "metadata": {},
   "outputs": [
    {
     "data": {
      "text/plain": [
       "<matplotlib.axes._subplots.AxesSubplot at 0x2135befca88>"
      ]
     },
     "execution_count": 10,
     "metadata": {},
     "output_type": "execute_result"
    },
    {
     "data": {
      "image/png": "[encoded data removed]",
      "text/plain": [
       "<Figure size 432x288 with 1 Axes>"
      ]
     },
     "metadata": {
      "needs_background": "light"
     },
     "output_type": "display_data"
    }
   ],
   "source": [
    "df['median_income'].hist(edgecolor = 'k',bins = 10)"
   ]
  },
  {
   "cell_type": "code",
   "execution_count": 11,
   "metadata": {},
   "outputs": [],
   "source": [
    "from sklearn.model_selection import train_test_split\n",
    "train_set,test_set = train_test_split(df,test_size = 0.2,random_state =40)"
   ]
  },
  {
   "cell_type": "code",
   "execution_count": 12,
   "metadata": {},
   "outputs": [
    {
     "data": {
      "text/html": [
       "<div>\n",
       "<style scoped>\n",
       "    .dataframe tbody tr th:only-of-type {\n",
       "        vertical-align: middle;\n",
       "    }\n",
       "\n",
       "    .dataframe tbody tr th {\n",
       "        vertical-align: top;\n",
       "    }\n",
       "\n",
       "    .dataframe thead th {\n",
       "        text-align: right;\n",
       "    }\n",
       "</style>\n",
       "<table border=\"1\" class=\"dataframe\">\n",
       "  <thead>\n",
       "    <tr style=\"text-align: right;\">\n",
       "      <th></th>\n",
       "      <th>longitude</th>\n",
       "      <th>latitude</th>\n",
       "      <th>housing_median_age</th>\n",
       "      <th>total_rooms</th>\n",
       "      <th>total_bedrooms</th>\n",
       "      <th>population</th>\n",
       "      <th>households</th>\n",
       "      <th>median_income</th>\n",
       "      <th>median_house_value</th>\n",
       "      <th>ocean_proximity</th>\n",
       "    </tr>\n",
       "  </thead>\n",
       "  <tbody>\n",
       "    <tr>\n",
       "      <td>9226</td>\n",
       "      <td>-120.04</td>\n",
       "      <td>36.93</td>\n",
       "      <td>11.0</td>\n",
       "      <td>3606.0</td>\n",
       "      <td>699.0</td>\n",
       "      <td>2074.0</td>\n",
       "      <td>644.0</td>\n",
       "      <td>2.6941</td>\n",
       "      <td>63300.0</td>\n",
       "      <td>INLAND</td>\n",
       "    </tr>\n",
       "    <tr>\n",
       "      <td>11826</td>\n",
       "      <td>-121.04</td>\n",
       "      <td>39.00</td>\n",
       "      <td>21.0</td>\n",
       "      <td>4059.0</td>\n",
       "      <td>730.0</td>\n",
       "      <td>1874.0</td>\n",
       "      <td>693.0</td>\n",
       "      <td>4.8051</td>\n",
       "      <td>174300.0</td>\n",
       "      <td>INLAND</td>\n",
       "    </tr>\n",
       "    <tr>\n",
       "      <td>4553</td>\n",
       "      <td>-118.24</td>\n",
       "      <td>34.06</td>\n",
       "      <td>33.0</td>\n",
       "      <td>390.0</td>\n",
       "      <td>199.0</td>\n",
       "      <td>435.0</td>\n",
       "      <td>193.0</td>\n",
       "      <td>1.1979</td>\n",
       "      <td>350000.0</td>\n",
       "      <td>&lt;1H OCEAN</td>\n",
       "    </tr>\n",
       "    <tr>\n",
       "      <td>10787</td>\n",
       "      <td>-117.92</td>\n",
       "      <td>33.64</td>\n",
       "      <td>25.0</td>\n",
       "      <td>2224.0</td>\n",
       "      <td>580.0</td>\n",
       "      <td>985.0</td>\n",
       "      <td>516.0</td>\n",
       "      <td>3.1305</td>\n",
       "      <td>268800.0</td>\n",
       "      <td>&lt;1H OCEAN</td>\n",
       "    </tr>\n",
       "    <tr>\n",
       "      <td>4104</td>\n",
       "      <td>-118.35</td>\n",
       "      <td>34.13</td>\n",
       "      <td>39.0</td>\n",
       "      <td>1610.0</td>\n",
       "      <td>278.0</td>\n",
       "      <td>511.0</td>\n",
       "      <td>278.0</td>\n",
       "      <td>4.3333</td>\n",
       "      <td>385900.0</td>\n",
       "      <td>&lt;1H OCEAN</td>\n",
       "    </tr>\n",
       "    <tr>\n",
       "      <td>...</td>\n",
       "      <td>...</td>\n",
       "      <td>...</td>\n",
       "      <td>...</td>\n",
       "      <td>...</td>\n",
       "      <td>...</td>\n",
       "      <td>...</td>\n",
       "      <td>...</td>\n",
       "      <td>...</td>\n",
       "      <td>...</td>\n",
       "      <td>...</td>\n",
       "    </tr>\n",
       "    <tr>\n",
       "      <td>11532</td>\n",
       "      <td>-118.09</td>\n",
       "      <td>33.77</td>\n",
       "      <td>26.0</td>\n",
       "      <td>5359.0</td>\n",
       "      <td>1508.0</td>\n",
       "      <td>1829.0</td>\n",
       "      <td>1393.0</td>\n",
       "      <td>1.7675</td>\n",
       "      <td>61300.0</td>\n",
       "      <td>&lt;1H OCEAN</td>\n",
       "    </tr>\n",
       "    <tr>\n",
       "      <td>16065</td>\n",
       "      <td>-122.48</td>\n",
       "      <td>37.75</td>\n",
       "      <td>49.0</td>\n",
       "      <td>2203.0</td>\n",
       "      <td>407.0</td>\n",
       "      <td>1052.0</td>\n",
       "      <td>405.0</td>\n",
       "      <td>4.4375</td>\n",
       "      <td>329200.0</td>\n",
       "      <td>NEAR BAY</td>\n",
       "    </tr>\n",
       "    <tr>\n",
       "      <td>14501</td>\n",
       "      <td>-117.23</td>\n",
       "      <td>32.86</td>\n",
       "      <td>16.0</td>\n",
       "      <td>1200.0</td>\n",
       "      <td>468.0</td>\n",
       "      <td>648.0</td>\n",
       "      <td>443.0</td>\n",
       "      <td>3.0450</td>\n",
       "      <td>100000.0</td>\n",
       "      <td>NEAR OCEAN</td>\n",
       "    </tr>\n",
       "    <tr>\n",
       "      <td>14555</td>\n",
       "      <td>-117.13</td>\n",
       "      <td>32.96</td>\n",
       "      <td>15.0</td>\n",
       "      <td>2267.0</td>\n",
       "      <td>292.0</td>\n",
       "      <td>1180.0</td>\n",
       "      <td>289.0</td>\n",
       "      <td>6.7120</td>\n",
       "      <td>240200.0</td>\n",
       "      <td>&lt;1H OCEAN</td>\n",
       "    </tr>\n",
       "    <tr>\n",
       "      <td>11590</td>\n",
       "      <td>-118.01</td>\n",
       "      <td>33.78</td>\n",
       "      <td>26.0</td>\n",
       "      <td>2343.0</td>\n",
       "      <td>377.0</td>\n",
       "      <td>1166.0</td>\n",
       "      <td>373.0</td>\n",
       "      <td>6.0000</td>\n",
       "      <td>233100.0</td>\n",
       "      <td>&lt;1H OCEAN</td>\n",
       "    </tr>\n",
       "  </tbody>\n",
       "</table>\n",
       "<p>16512 rows × 10 columns</p>\n",
       "</div>"
      ],
      "text/plain": [
       "       longitude  latitude  housing_median_age  total_rooms  total_bedrooms  \\\n",
       "9226     -120.04     36.93                11.0       3606.0           699.0   \n",
       "11826    -121.04     39.00                21.0       4059.0           730.0   \n",
       "4553     -118.24     34.06                33.0        390.0           199.0   \n",
       "10787    -117.92     33.64                25.0       2224.0           580.0   \n",
       "4104     -118.35     34.13                39.0       1610.0           278.0   \n",
       "...          ...       ...                 ...          ...             ...   \n",
       "11532    -118.09     33.77                26.0       5359.0          1508.0   \n",
       "16065    -122.48     37.75                49.0       2203.0           407.0   \n",
       "14501    -117.23     32.86                16.0       1200.0           468.0   \n",
       "14555    -117.13     32.96                15.0       2267.0           292.0   \n",
       "11590    -118.01     33.78                26.0       2343.0           377.0   \n",
       "\n",
       "       population  households  median_income  median_house_value  \\\n",
       "9226       2074.0       644.0         2.6941             63300.0   \n",
       "11826      1874.0       693.0         4.8051            174300.0   \n",
       "4553        435.0       193.0         1.1979            350000.0   \n",
       "10787       985.0       516.0         3.1305            268800.0   \n",
       "4104        511.0       278.0         4.3333            385900.0   \n",
       "...           ...         ...            ...                 ...   \n",
       "11532      1829.0      1393.0         1.7675             61300.0   \n",
       "16065      1052.0       405.0         4.4375            329200.0   \n",
       "14501       648.0       443.0         3.0450            100000.0   \n",
       "14555      1180.0       289.0         6.7120            240200.0   \n",
       "11590      1166.0       373.0         6.0000            233100.0   \n",
       "\n",
       "      ocean_proximity  \n",
       "9226           INLAND  \n",
       "11826          INLAND  \n",
       "4553        <1H OCEAN  \n",
       "10787       <1H OCEAN  \n",
       "4104        <1H OCEAN  \n",
       "...               ...  \n",
       "11532       <1H OCEAN  \n",
       "16065        NEAR BAY  \n",
       "14501      NEAR OCEAN  \n",
       "14555       <1H OCEAN  \n",
       "11590       <1H OCEAN  \n",
       "\n",
       "[16512 rows x 10 columns]"
      ]
     },
     "execution_count": 12,
     "metadata": {},
     "output_type": "execute_result"
    }
   ],
   "source": [
    "train_set"
   ]
  },
  {
   "cell_type": "code",
   "execution_count": 13,
   "metadata": {},
   "outputs": [],
   "source": [
    "df['income_cat'] =  np.ceil(df['median_income']/1.5)\n",
    "df['income_cat'].where(df['income_cat'] <5.0,other = 5.0,inplace = True)"
   ]
  },
  {
   "cell_type": "code",
   "execution_count": 14,
   "metadata": {},
   "outputs": [
    {
     "data": {
      "text/plain": [
       "0        5.0\n",
       "1        5.0\n",
       "2        5.0\n",
       "3        4.0\n",
       "4        3.0\n",
       "        ... \n",
       "20635    2.0\n",
       "20636    2.0\n",
       "20637    2.0\n",
       "20638    2.0\n",
       "20639    2.0\n",
       "Name: income_cat, Length: 20640, dtype: float64"
      ]
     },
     "execution_count": 14,
     "metadata": {},
     "output_type": "execute_result"
    }
   ],
   "source": [
    "df['income_cat']"
   ]
  },
  {
   "cell_type": "code",
   "execution_count": 15,
   "metadata": {},
   "outputs": [],
   "source": [
    "from sklearn.model_selection import StratifiedShuffleSplit\n",
    "\n",
    "split = StratifiedShuffleSplit(n_splits = 1,test_size = 0.2,random_state = 42)\n",
    "for train_index ,test_index in split.split(df,df['income_cat']) :\n",
    "    test_set = df.loc[test_index]\n",
    "    train_set  = df.loc[train_index]\n",
    "\n"
   ]
  },
  {
   "cell_type": "code",
   "execution_count": 16,
   "metadata": {},
   "outputs": [
    {
     "data": {
      "text/html": [
       "<div>\n",
       "<style scoped>\n",
       "    .dataframe tbody tr th:only-of-type {\n",
       "        vertical-align: middle;\n",
       "    }\n",
       "\n",
       "    .dataframe tbody tr th {\n",
       "        vertical-align: top;\n",
       "    }\n",
       "\n",
       "    .dataframe thead th {\n",
       "        text-align: right;\n",
       "    }\n",
       "</style>\n",
       "<table border=\"1\" class=\"dataframe\">\n",
       "  <thead>\n",
       "    <tr style=\"text-align: right;\">\n",
       "      <th></th>\n",
       "      <th>longitude</th>\n",
       "      <th>latitude</th>\n",
       "      <th>housing_median_age</th>\n",
       "      <th>total_rooms</th>\n",
       "      <th>total_bedrooms</th>\n",
       "      <th>population</th>\n",
       "      <th>households</th>\n",
       "      <th>median_income</th>\n",
       "      <th>median_house_value</th>\n",
       "      <th>ocean_proximity</th>\n",
       "      <th>income_cat</th>\n",
       "    </tr>\n",
       "  </thead>\n",
       "  <tbody>\n",
       "    <tr>\n",
       "      <td>5241</td>\n",
       "      <td>-118.39</td>\n",
       "      <td>34.12</td>\n",
       "      <td>29.0</td>\n",
       "      <td>6447.0</td>\n",
       "      <td>1012.0</td>\n",
       "      <td>2184.0</td>\n",
       "      <td>960.0</td>\n",
       "      <td>8.2816</td>\n",
       "      <td>500001.0</td>\n",
       "      <td>&lt;1H OCEAN</td>\n",
       "      <td>5.0</td>\n",
       "    </tr>\n",
       "    <tr>\n",
       "      <td>10970</td>\n",
       "      <td>-117.86</td>\n",
       "      <td>33.77</td>\n",
       "      <td>39.0</td>\n",
       "      <td>4159.0</td>\n",
       "      <td>655.0</td>\n",
       "      <td>1669.0</td>\n",
       "      <td>651.0</td>\n",
       "      <td>4.6111</td>\n",
       "      <td>240300.0</td>\n",
       "      <td>&lt;1H OCEAN</td>\n",
       "      <td>4.0</td>\n",
       "    </tr>\n",
       "    <tr>\n",
       "      <td>20351</td>\n",
       "      <td>-119.05</td>\n",
       "      <td>34.21</td>\n",
       "      <td>27.0</td>\n",
       "      <td>4357.0</td>\n",
       "      <td>926.0</td>\n",
       "      <td>2110.0</td>\n",
       "      <td>876.0</td>\n",
       "      <td>3.0119</td>\n",
       "      <td>218200.0</td>\n",
       "      <td>&lt;1H OCEAN</td>\n",
       "      <td>3.0</td>\n",
       "    </tr>\n",
       "    <tr>\n",
       "      <td>6568</td>\n",
       "      <td>-118.15</td>\n",
       "      <td>34.20</td>\n",
       "      <td>52.0</td>\n",
       "      <td>1786.0</td>\n",
       "      <td>306.0</td>\n",
       "      <td>1018.0</td>\n",
       "      <td>322.0</td>\n",
       "      <td>4.1518</td>\n",
       "      <td>182100.0</td>\n",
       "      <td>INLAND</td>\n",
       "      <td>3.0</td>\n",
       "    </tr>\n",
       "    <tr>\n",
       "      <td>13285</td>\n",
       "      <td>-117.68</td>\n",
       "      <td>34.07</td>\n",
       "      <td>32.0</td>\n",
       "      <td>1775.0</td>\n",
       "      <td>314.0</td>\n",
       "      <td>1067.0</td>\n",
       "      <td>302.0</td>\n",
       "      <td>4.0375</td>\n",
       "      <td>121300.0</td>\n",
       "      <td>INLAND</td>\n",
       "      <td>3.0</td>\n",
       "    </tr>\n",
       "    <tr>\n",
       "      <td>...</td>\n",
       "      <td>...</td>\n",
       "      <td>...</td>\n",
       "      <td>...</td>\n",
       "      <td>...</td>\n",
       "      <td>...</td>\n",
       "      <td>...</td>\n",
       "      <td>...</td>\n",
       "      <td>...</td>\n",
       "      <td>...</td>\n",
       "      <td>...</td>\n",
       "      <td>...</td>\n",
       "    </tr>\n",
       "    <tr>\n",
       "      <td>20519</td>\n",
       "      <td>-121.53</td>\n",
       "      <td>38.58</td>\n",
       "      <td>33.0</td>\n",
       "      <td>4988.0</td>\n",
       "      <td>1169.0</td>\n",
       "      <td>2414.0</td>\n",
       "      <td>1075.0</td>\n",
       "      <td>1.9728</td>\n",
       "      <td>76400.0</td>\n",
       "      <td>INLAND</td>\n",
       "      <td>2.0</td>\n",
       "    </tr>\n",
       "    <tr>\n",
       "      <td>17430</td>\n",
       "      <td>-120.44</td>\n",
       "      <td>34.65</td>\n",
       "      <td>30.0</td>\n",
       "      <td>2265.0</td>\n",
       "      <td>512.0</td>\n",
       "      <td>1402.0</td>\n",
       "      <td>471.0</td>\n",
       "      <td>1.9750</td>\n",
       "      <td>134000.0</td>\n",
       "      <td>NEAR OCEAN</td>\n",
       "      <td>2.0</td>\n",
       "    </tr>\n",
       "    <tr>\n",
       "      <td>4019</td>\n",
       "      <td>-118.49</td>\n",
       "      <td>34.18</td>\n",
       "      <td>31.0</td>\n",
       "      <td>3073.0</td>\n",
       "      <td>674.0</td>\n",
       "      <td>1486.0</td>\n",
       "      <td>684.0</td>\n",
       "      <td>4.8984</td>\n",
       "      <td>311700.0</td>\n",
       "      <td>&lt;1H OCEAN</td>\n",
       "      <td>4.0</td>\n",
       "    </tr>\n",
       "    <tr>\n",
       "      <td>12107</td>\n",
       "      <td>-117.32</td>\n",
       "      <td>33.99</td>\n",
       "      <td>27.0</td>\n",
       "      <td>5464.0</td>\n",
       "      <td>850.0</td>\n",
       "      <td>2400.0</td>\n",
       "      <td>836.0</td>\n",
       "      <td>4.7110</td>\n",
       "      <td>133500.0</td>\n",
       "      <td>INLAND</td>\n",
       "      <td>4.0</td>\n",
       "    </tr>\n",
       "    <tr>\n",
       "      <td>2398</td>\n",
       "      <td>-118.91</td>\n",
       "      <td>36.79</td>\n",
       "      <td>19.0</td>\n",
       "      <td>1616.0</td>\n",
       "      <td>324.0</td>\n",
       "      <td>187.0</td>\n",
       "      <td>80.0</td>\n",
       "      <td>3.7857</td>\n",
       "      <td>78600.0</td>\n",
       "      <td>INLAND</td>\n",
       "      <td>3.0</td>\n",
       "    </tr>\n",
       "  </tbody>\n",
       "</table>\n",
       "<p>4128 rows × 11 columns</p>\n",
       "</div>"
      ],
      "text/plain": [
       "       longitude  latitude  housing_median_age  total_rooms  total_bedrooms  \\\n",
       "5241     -118.39     34.12                29.0       6447.0          1012.0   \n",
       "10970    -117.86     33.77                39.0       4159.0           655.0   \n",
       "20351    -119.05     34.21                27.0       4357.0           926.0   \n",
       "6568     -118.15     34.20                52.0       1786.0           306.0   \n",
       "13285    -117.68     34.07                32.0       1775.0           314.0   \n",
       "...          ...       ...                 ...          ...             ...   \n",
       "20519    -121.53     38.58                33.0       4988.0          1169.0   \n",
       "17430    -120.44     34.65                30.0       2265.0           512.0   \n",
       "4019     -118.49     34.18                31.0       3073.0           674.0   \n",
       "12107    -117.32     33.99                27.0       5464.0           850.0   \n",
       "2398     -118.91     36.79                19.0       1616.0           324.0   \n",
       "\n",
       "       population  households  median_income  median_house_value  \\\n",
       "5241       2184.0       960.0         8.2816            500001.0   \n",
       "10970      1669.0       651.0         4.6111            240300.0   \n",
       "20351      2110.0       876.0         3.0119            218200.0   \n",
       "6568       1018.0       322.0         4.1518            182100.0   \n",
       "13285      1067.0       302.0         4.0375            121300.0   \n",
       "...           ...         ...            ...                 ...   \n",
       "20519      2414.0      1075.0         1.9728             76400.0   \n",
       "17430      1402.0       471.0         1.9750            134000.0   \n",
       "4019       1486.0       684.0         4.8984            311700.0   \n",
       "12107      2400.0       836.0         4.7110            133500.0   \n",
       "2398        187.0        80.0         3.7857             78600.0   \n",
       "\n",
       "      ocean_proximity  income_cat  \n",
       "5241        <1H OCEAN         5.0  \n",
       "10970       <1H OCEAN         4.0  \n",
       "20351       <1H OCEAN         3.0  \n",
       "6568           INLAND         3.0  \n",
       "13285          INLAND         3.0  \n",
       "...               ...         ...  \n",
       "20519          INLAND         2.0  \n",
       "17430      NEAR OCEAN         2.0  \n",
       "4019        <1H OCEAN         4.0  \n",
       "12107          INLAND         4.0  \n",
       "2398           INLAND         3.0  \n",
       "\n",
       "[4128 rows x 11 columns]"
      ]
     },
     "execution_count": 16,
     "metadata": {},
     "output_type": "execute_result"
    }
   ],
   "source": [
    "test_set"
   ]
  },
  {
   "cell_type": "code",
   "execution_count": 17,
   "metadata": {},
   "outputs": [
    {
     "data": {
      "text/plain": [
       "3.0    0.350533\n",
       "2.0    0.318798\n",
       "4.0    0.176357\n",
       "5.0    0.114583\n",
       "1.0    0.039729\n",
       "Name: income_cat, dtype: float64"
      ]
     },
     "execution_count": 17,
     "metadata": {},
     "output_type": "execute_result"
    }
   ],
   "source": [
    "test_set['income_cat'].value_counts(normalize = True)"
   ]
  },
  {
   "cell_type": "code",
   "execution_count": 18,
   "metadata": {},
   "outputs": [
    {
     "data": {
      "text/plain": [
       "3.0    0.350581\n",
       "2.0    0.318847\n",
       "4.0    0.176308\n",
       "5.0    0.114438\n",
       "1.0    0.039826\n",
       "Name: income_cat, dtype: float64"
      ]
     },
     "execution_count": 18,
     "metadata": {},
     "output_type": "execute_result"
    }
   ],
   "source": [
    "df['income_cat'].value_counts(normalize = True)"
   ]
  },
  {
   "cell_type": "code",
   "execution_count": 19,
   "metadata": {},
   "outputs": [],
   "source": [
    "test_set.drop(columns='income_cat',inplace = True)\n"
   ]
  },
  {
   "cell_type": "code",
   "execution_count": 20,
   "metadata": {},
   "outputs": [],
   "source": [
    "train_set.drop(columns = 'income_cat',inplace = True)"
   ]
  },
  {
   "cell_type": "code",
   "execution_count": 21,
   "metadata": {},
   "outputs": [
    {
     "data": {
      "text/plain": [
       "<matplotlib.colorbar.Colorbar at 0x2135ee14808>"
      ]
     },
     "execution_count": 21,
     "metadata": {},
     "output_type": "execute_result"
    },
    {
     "data": {
      "image/png": "[encoded data removed]",
      "text/plain": [
       "<Figure size 432x288 with 2 Axes>"
      ]
     },
     "metadata": {
      "needs_background": "light"
     },
     "output_type": "display_data"
    }
   ],
   "source": [
    "import matplotlib.pyplot as plt\n",
    "plt.scatter(train_set['longitude'],train_set['latitude'],c=train_set['median_house_value'],cmap = 'Blues_r',s =train_set['population']/50,alpha = 0.4)\n",
    "plt.colorbar()"
   ]
  },
  {
   "cell_type": "code",
   "execution_count": 22,
   "metadata": {},
   "outputs": [
    {
     "data": {
      "text/plain": [
       "latitude             -0.150124\n",
       "longitude            -0.039987\n",
       "population           -0.016033\n",
       "total_bedrooms        0.057568\n",
       "households            0.071242\n",
       "housing_median_age    0.071357\n",
       "total_rooms           0.131435\n",
       "median_income         0.691831\n",
       "median_house_value    1.000000\n",
       "Name: median_house_value, dtype: float64"
      ]
     },
     "execution_count": 22,
     "metadata": {},
     "output_type": "execute_result"
    }
   ],
   "source": [
    "df1 = test_set.copy()\n",
    "corr_matrix = df1.corr()\n",
    "corr_matrix['median_house_value'].sort_values()"
   ]
  },
  {
   "cell_type": "code",
   "execution_count": 23,
   "metadata": {},
   "outputs": [
    {
     "data": {
      "text/plain": [
       "array([[<matplotlib.axes._subplots.AxesSubplot object at 0x000002135EE0E4C8>,\n",
       "        <matplotlib.axes._subplots.AxesSubplot object at 0x000002135EFDA788>,\n",
       "        <matplotlib.axes._subplots.AxesSubplot object at 0x000002135EEA0F48>,\n",
       "        <matplotlib.axes._subplots.AxesSubplot object at 0x000002135EEDA988>],\n",
       "       [<matplotlib.axes._subplots.AxesSubplot object at 0x000002135EF14388>,\n",
       "        <matplotlib.axes._subplots.AxesSubplot object at 0x000002135EF4D208>,\n",
       "        <matplotlib.axes._subplots.AxesSubplot object at 0x000002135EF85308>,\n",
       "        <matplotlib.axes._subplots.AxesSubplot object at 0x000002135F463F08>],\n",
       "       [<matplotlib.axes._subplots.AxesSubplot object at 0x000002135F463FC8>,\n",
       "        <matplotlib.axes._subplots.AxesSubplot object at 0x000002135F4A21C8>,\n",
       "        <matplotlib.axes._subplots.AxesSubplot object at 0x000002135F506788>,\n",
       "        <matplotlib.axes._subplots.AxesSubplot object at 0x000002135F540808>],\n",
       "       [<matplotlib.axes._subplots.AxesSubplot object at 0x000002135F579948>,\n",
       "        <matplotlib.axes._subplots.AxesSubplot object at 0x000002135F5B3AC8>,\n",
       "        <matplotlib.axes._subplots.AxesSubplot object at 0x000002135F5EBB48>,\n",
       "        <matplotlib.axes._subplots.AxesSubplot object at 0x000002135F623C48>]],\n",
       "      dtype=object)"
      ]
     },
     "execution_count": 23,
     "metadata": {},
     "output_type": "execute_result"
    },
    {
     "data": {
      "image/png": "[encoded data removed]",
      "text/plain": [
       "<Figure size 504x504 with 16 Axes>"
      ]
     },
     "metadata": {
      "needs_background": "light"
     },
     "output_type": "display_data"
    }
   ],
   "source": [
    "from pandas.plotting import scatter_matrix\n",
    "attributes = ['median_house_value', 'median_income','total_bedrooms' , 'total_rooms' ]\n",
    "scatter_matrix(df1[attributes],figsize = (7,7))"
   ]
  },
  {
   "cell_type": "code",
   "execution_count": 24,
   "metadata": {},
   "outputs": [
    {
     "data": {
      "text/plain": [
       "<matplotlib.collections.PathCollection at 0x213606bad48>"
      ]
     },
     "execution_count": 24,
     "metadata": {},
     "output_type": "execute_result"
    },
    {
     "data": {
      "image/png": "[encoded data removed]",
      "text/plain": [
       "<Figure size 432x288 with 1 Axes>"
      ]
     },
     "metadata": {
      "needs_background": "light"
     },
     "output_type": "display_data"
    }
   ],
   "source": [
    "plt.scatter(df1['median_income'],df1['median_house_value'])"
   ]
  },
  {
   "cell_type": "code",
   "execution_count": 25,
   "metadata": {},
   "outputs": [],
   "source": [
    "df1['rooms_per_households'] =df1['total_rooms']/df1['households']\n",
    "df1['bedrooms_per_rooms'] = df1['total_bedrooms']/df1['total_rooms']\n",
    "df1['population_per_household'] = df1['population']/df1['households']\n",
    "corr_matrix1 =df1.corr()"
   ]
  },
  {
   "cell_type": "code",
   "execution_count": 26,
   "metadata": {},
   "outputs": [
    {
     "data": {
      "text/plain": [
       "bedrooms_per_rooms         -0.240362\n",
       "latitude                   -0.150124\n",
       "population_per_household   -0.135142\n",
       "longitude                  -0.039987\n",
       "population                 -0.016033\n",
       "total_bedrooms              0.057568\n",
       "households                  0.071242\n",
       "housing_median_age          0.071357\n",
       "total_rooms                 0.131435\n",
       "rooms_per_households        0.192575\n",
       "median_income               0.691831\n",
       "median_house_value          1.000000\n",
       "Name: median_house_value, dtype: float64"
      ]
     },
     "execution_count": 26,
     "metadata": {},
     "output_type": "execute_result"
    }
   ],
   "source": [
    "corr_matrix1['median_house_value'].sort_values()"
   ]
  },
  {
   "cell_type": "markdown",
   "metadata": {},
   "source": [
    "# Data cleaning"
   ]
  },
  {
   "cell_type": "code",
   "execution_count": 27,
   "metadata": {},
   "outputs": [],
   "source": [
    "housing   = train_set.drop('median_house_value',axis =1)\n",
    "housing_labels = train_set['median_house_value']\n"
   ]
  },
  {
   "cell_type": "code",
   "execution_count": 28,
   "metadata": {},
   "outputs": [
    {
     "data": {
      "text/plain": [
       "(16512, 9)"
      ]
     },
     "execution_count": 28,
     "metadata": {},
     "output_type": "execute_result"
    }
   ],
   "source": [
    "housing.shape"
   ]
  },
  {
   "cell_type": "code",
   "execution_count": 29,
   "metadata": {},
   "outputs": [
    {
     "data": {
      "text/html": [
       "<div>\n",
       "<style scoped>\n",
       "    .dataframe tbody tr th:only-of-type {\n",
       "        vertical-align: middle;\n",
       "    }\n",
       "\n",
       "    .dataframe tbody tr th {\n",
       "        vertical-align: top;\n",
       "    }\n",
       "\n",
       "    .dataframe thead th {\n",
       "        text-align: right;\n",
       "    }\n",
       "</style>\n",
       "<table border=\"1\" class=\"dataframe\">\n",
       "  <thead>\n",
       "    <tr style=\"text-align: right;\">\n",
       "      <th></th>\n",
       "      <th>longitude</th>\n",
       "      <th>latitude</th>\n",
       "      <th>housing_median_age</th>\n",
       "      <th>total_rooms</th>\n",
       "      <th>total_bedrooms</th>\n",
       "      <th>population</th>\n",
       "      <th>households</th>\n",
       "      <th>median_income</th>\n",
       "      <th>ocean_proximity</th>\n",
       "    </tr>\n",
       "  </thead>\n",
       "  <tbody>\n",
       "    <tr>\n",
       "      <td>17606</td>\n",
       "      <td>-121.89</td>\n",
       "      <td>37.29</td>\n",
       "      <td>38.0</td>\n",
       "      <td>1568.0</td>\n",
       "      <td>351.0</td>\n",
       "      <td>710.0</td>\n",
       "      <td>339.0</td>\n",
       "      <td>2.7042</td>\n",
       "      <td>&lt;1H OCEAN</td>\n",
       "    </tr>\n",
       "    <tr>\n",
       "      <td>18632</td>\n",
       "      <td>-121.93</td>\n",
       "      <td>37.05</td>\n",
       "      <td>14.0</td>\n",
       "      <td>679.0</td>\n",
       "      <td>108.0</td>\n",
       "      <td>306.0</td>\n",
       "      <td>113.0</td>\n",
       "      <td>6.4214</td>\n",
       "      <td>&lt;1H OCEAN</td>\n",
       "    </tr>\n",
       "    <tr>\n",
       "      <td>14650</td>\n",
       "      <td>-117.20</td>\n",
       "      <td>32.77</td>\n",
       "      <td>31.0</td>\n",
       "      <td>1952.0</td>\n",
       "      <td>471.0</td>\n",
       "      <td>936.0</td>\n",
       "      <td>462.0</td>\n",
       "      <td>2.8621</td>\n",
       "      <td>NEAR OCEAN</td>\n",
       "    </tr>\n",
       "    <tr>\n",
       "      <td>3230</td>\n",
       "      <td>-119.61</td>\n",
       "      <td>36.31</td>\n",
       "      <td>25.0</td>\n",
       "      <td>1847.0</td>\n",
       "      <td>371.0</td>\n",
       "      <td>1460.0</td>\n",
       "      <td>353.0</td>\n",
       "      <td>1.8839</td>\n",
       "      <td>INLAND</td>\n",
       "    </tr>\n",
       "    <tr>\n",
       "      <td>3555</td>\n",
       "      <td>-118.59</td>\n",
       "      <td>34.23</td>\n",
       "      <td>17.0</td>\n",
       "      <td>6592.0</td>\n",
       "      <td>1525.0</td>\n",
       "      <td>4459.0</td>\n",
       "      <td>1463.0</td>\n",
       "      <td>3.0347</td>\n",
       "      <td>&lt;1H OCEAN</td>\n",
       "    </tr>\n",
       "  </tbody>\n",
       "</table>\n",
       "</div>"
      ],
      "text/plain": [
       "       longitude  latitude  housing_median_age  total_rooms  total_bedrooms  \\\n",
       "17606    -121.89     37.29                38.0       1568.0           351.0   \n",
       "18632    -121.93     37.05                14.0        679.0           108.0   \n",
       "14650    -117.20     32.77                31.0       1952.0           471.0   \n",
       "3230     -119.61     36.31                25.0       1847.0           371.0   \n",
       "3555     -118.59     34.23                17.0       6592.0          1525.0   \n",
       "\n",
       "       population  households  median_income ocean_proximity  \n",
       "17606       710.0       339.0         2.7042       <1H OCEAN  \n",
       "18632       306.0       113.0         6.4214       <1H OCEAN  \n",
       "14650       936.0       462.0         2.8621      NEAR OCEAN  \n",
       "3230       1460.0       353.0         1.8839          INLAND  \n",
       "3555       4459.0      1463.0         3.0347       <1H OCEAN  "
      ]
     },
     "execution_count": 29,
     "metadata": {},
     "output_type": "execute_result"
    }
   ],
   "source": [
    "housing.head()"
   ]
  },
  {
   "cell_type": "code",
   "execution_count": 30,
   "metadata": {},
   "outputs": [
    {
     "data": {
      "text/html": [
       "<div>\n",
       "<style scoped>\n",
       "    .dataframe tbody tr th:only-of-type {\n",
       "        vertical-align: middle;\n",
       "    }\n",
       "\n",
       "    .dataframe tbody tr th {\n",
       "        vertical-align: top;\n",
       "    }\n",
       "\n",
       "    .dataframe thead th {\n",
       "        text-align: right;\n",
       "    }\n",
       "</style>\n",
       "<table border=\"1\" class=\"dataframe\">\n",
       "  <thead>\n",
       "    <tr style=\"text-align: right;\">\n",
       "      <th></th>\n",
       "      <th>longitude</th>\n",
       "      <th>latitude</th>\n",
       "      <th>housing_median_age</th>\n",
       "      <th>total_rooms</th>\n",
       "      <th>total_bedrooms</th>\n",
       "      <th>population</th>\n",
       "      <th>households</th>\n",
       "      <th>median_income</th>\n",
       "    </tr>\n",
       "  </thead>\n",
       "  <tbody>\n",
       "    <tr>\n",
       "      <td>17606</td>\n",
       "      <td>-121.89</td>\n",
       "      <td>37.29</td>\n",
       "      <td>38.0</td>\n",
       "      <td>1568.0</td>\n",
       "      <td>351.0</td>\n",
       "      <td>710.0</td>\n",
       "      <td>339.0</td>\n",
       "      <td>2.7042</td>\n",
       "    </tr>\n",
       "    <tr>\n",
       "      <td>18632</td>\n",
       "      <td>-121.93</td>\n",
       "      <td>37.05</td>\n",
       "      <td>14.0</td>\n",
       "      <td>679.0</td>\n",
       "      <td>108.0</td>\n",
       "      <td>306.0</td>\n",
       "      <td>113.0</td>\n",
       "      <td>6.4214</td>\n",
       "    </tr>\n",
       "    <tr>\n",
       "      <td>14650</td>\n",
       "      <td>-117.20</td>\n",
       "      <td>32.77</td>\n",
       "      <td>31.0</td>\n",
       "      <td>1952.0</td>\n",
       "      <td>471.0</td>\n",
       "      <td>936.0</td>\n",
       "      <td>462.0</td>\n",
       "      <td>2.8621</td>\n",
       "    </tr>\n",
       "    <tr>\n",
       "      <td>3230</td>\n",
       "      <td>-119.61</td>\n",
       "      <td>36.31</td>\n",
       "      <td>25.0</td>\n",
       "      <td>1847.0</td>\n",
       "      <td>371.0</td>\n",
       "      <td>1460.0</td>\n",
       "      <td>353.0</td>\n",
       "      <td>1.8839</td>\n",
       "    </tr>\n",
       "    <tr>\n",
       "      <td>3555</td>\n",
       "      <td>-118.59</td>\n",
       "      <td>34.23</td>\n",
       "      <td>17.0</td>\n",
       "      <td>6592.0</td>\n",
       "      <td>1525.0</td>\n",
       "      <td>4459.0</td>\n",
       "      <td>1463.0</td>\n",
       "      <td>3.0347</td>\n",
       "    </tr>\n",
       "  </tbody>\n",
       "</table>\n",
       "</div>"
      ],
      "text/plain": [
       "       longitude  latitude  housing_median_age  total_rooms  total_bedrooms  \\\n",
       "17606    -121.89     37.29                38.0       1568.0           351.0   \n",
       "18632    -121.93     37.05                14.0        679.0           108.0   \n",
       "14650    -117.20     32.77                31.0       1952.0           471.0   \n",
       "3230     -119.61     36.31                25.0       1847.0           371.0   \n",
       "3555     -118.59     34.23                17.0       6592.0          1525.0   \n",
       "\n",
       "       population  households  median_income  \n",
       "17606       710.0       339.0         2.7042  \n",
       "18632       306.0       113.0         6.4214  \n",
       "14650       936.0       462.0         2.8621  \n",
       "3230       1460.0       353.0         1.8839  \n",
       "3555       4459.0      1463.0         3.0347  "
      ]
     },
     "execution_count": 30,
     "metadata": {},
     "output_type": "execute_result"
    }
   ],
   "source": [
    "housing_num = housing.drop('ocean_proximity',axis =1)\n",
    "housing_num.head()"
   ]
  },
  {
   "cell_type": "code",
   "execution_count": 31,
   "metadata": {},
   "outputs": [
    {
     "data": {
      "text/plain": [
       "17606     <1H OCEAN\n",
       "18632     <1H OCEAN\n",
       "14650    NEAR OCEAN\n",
       "3230         INLAND\n",
       "3555      <1H OCEAN\n",
       "Name: ocean_proximity, dtype: object"
      ]
     },
     "execution_count": 31,
     "metadata": {},
     "output_type": "execute_result"
    }
   ],
   "source": [
    "housing_cat = housing['ocean_proximity']\n",
    "housing_cat.head()"
   ]
  },
  {
   "cell_type": "code",
   "execution_count": 32,
   "metadata": {},
   "outputs": [
    {
     "data": {
      "text/plain": [
       "17606    286600.0\n",
       "18632    340600.0\n",
       "14650    196900.0\n",
       "3230      46300.0\n",
       "3555     254500.0\n",
       "Name: median_house_value, dtype: float64"
      ]
     },
     "execution_count": 32,
     "metadata": {},
     "output_type": "execute_result"
    }
   ],
   "source": [
    "housing_labels.head()"
   ]
  },
  {
   "cell_type": "code",
   "execution_count": 130,
   "metadata": {},
   "outputs": [],
   "source": [
    "from sklearn.base import BaseEstimator ,TransformerMixin\n",
    "rooms_ix ,  bedroom_ix , population_ix , household_ix = 3 , 4 , 5 , 6\n",
    "class CombinedAtrributesAdder(BaseEstimator ,TransformerMixin):\n",
    "    def __init__(self,addbedrooms_per_rooms = True) :\n",
    "        self.addbedrooms_per_rooms = addbedrooms_per_rooms\n",
    "    def fit(self,x,y = None) :\n",
    "        return self\n",
    "    def transform(self ,x) :\n",
    "        rooms_per_household= x[:,rooms_ix]/x[:,household_ix]\n",
    "        population_per_household = x[:,population_ix]/x[:,household_ix]\n",
    "        if self.addbedrooms_per_rooms :\n",
    "            bedrooms_per_rooms = x[:,bedroom_ix]/x[:,rooms_ix]\n",
    "            return np.c_[x,rooms_per_household,population_per_household,bedrooms_per_rooms]\n",
    "        else :\n",
    "            return np.c_[x,rooms_per_household,population_per_household]"
   ]
  },
  {
   "cell_type": "code",
   "execution_count": 131,
   "metadata": {},
   "outputs": [],
   "source": [
    "class DataFrameselector(BaseEstimator ,TransformerMixin):\n",
    "    def __init__(self,attribute_names):\n",
    "        self.attribute_names  = attribute_names\n",
    "    def fit(self,x,y = None):\n",
    "        return self \n",
    "    def transform(self, x ):\n",
    "        return x[self.attribute_names].to_numpy()"
   ]
  },
  {
   "cell_type": "code",
   "execution_count": 132,
   "metadata": {},
   "outputs": [],
   "source": [
    "from sklearn.preprocessing import LabelBinarizer\n",
    "class MyLabelBinarizer(BaseEstimator ,TransformerMixin):\n",
    "    def __init__(self,*args,**kwargs):\n",
    "        self.encoder = LabelBinarizer()\n",
    "    def fit(self,x):\n",
    "        self.encoder.fit(x)\n",
    "        return self\n",
    "    def transform(self,x) :\n",
    "        return self.encoder.transform(x)"
   ]
  },
  {
   "cell_type": "code",
   "execution_count": 146,
   "metadata": {},
   "outputs": [
    {
     "data": {
      "text/plain": [
       "array([[-1.15604281,  0.77194962,  0.74333089, ...,  0.        ,\n",
       "         0.        ,  0.        ],\n",
       "       [-1.17602483,  0.6596948 , -1.1653172 , ...,  0.        ,\n",
       "         0.        ,  0.        ],\n",
       "       [ 1.18684903, -1.34218285,  0.18664186, ...,  0.        ,\n",
       "         0.        ,  1.        ],\n",
       "       ...,\n",
       "       [ 1.58648943, -0.72478134, -1.56295222, ...,  0.        ,\n",
       "         0.        ,  0.        ],\n",
       "       [ 0.78221312, -0.85106801,  0.18664186, ...,  0.        ,\n",
       "         0.        ,  0.        ],\n",
       "       [-1.43579109,  0.99645926,  1.85670895, ...,  0.        ,\n",
       "         1.        ,  0.        ]])"
      ]
     },
     "execution_count": 146,
     "metadata": {},
     "output_type": "execute_result"
    }
   ],
   "source": [
    "from sklearn.preprocessing import  StandardScaler ,LabelBinarizer\n",
    "from sklearn.impute import SimpleImputer\n",
    "from sklearn.pipeline import Pipeline  , FeatureUnion\n",
    "num_attributes = list(housing_num)\n",
    "cat_attributes = ['ocean_proximity']\n",
    "num_pipeline  = Pipeline([('selector',DataFrameselector(num_attributes)),('Imputer' , SimpleImputer(strategy = 'mean')),('combineattributes' ,CombinedAtrributesAdder()),('Standarization',StandardScaler()),])\n",
    "\n",
    "cat_pipeline = Pipeline([('Selector',DataFrameselector(cat_attributes)),('label_encoder',MyLabelBinarizer()),])\n",
    "                          \n",
    "full_pipeline = FeatureUnion(transformer_list = [('num_pipeline',num_pipeline),('cat_pipeline',cat_pipeline),])\n",
    "                          \n",
    "housing_pre   = full_pipeline.fit_transform(housing)\n",
    "housing_pre                          "
   ]
  },
  {
   "cell_type": "code",
   "execution_count": 147,
   "metadata": {},
   "outputs": [
    {
     "data": {
      "text/plain": [
       "(16512, 16)"
      ]
     },
     "execution_count": 147,
     "metadata": {},
     "output_type": "execute_result"
    }
   ],
   "source": [
    "housing_pre.shape"
   ]
  },
  {
   "cell_type": "code",
   "execution_count": 148,
   "metadata": {},
   "outputs": [
    {
     "data": {
      "text/plain": [
       "array([[1, 0, 0, 0, 0],\n",
       "       [1, 0, 0, 0, 0],\n",
       "       [0, 0, 0, 0, 1],\n",
       "       ...,\n",
       "       [0, 1, 0, 0, 0],\n",
       "       [1, 0, 0, 0, 0],\n",
       "       [0, 0, 0, 1, 0]])"
      ]
     },
     "execution_count": 148,
     "metadata": {},
     "output_type": "execute_result"
    }
   ],
   "source": [
    "cat_pipeline.fit_transform(housing)"
   ]
  },
  {
   "cell_type": "markdown",
   "metadata": {},
   "source": [
    "# Training Model"
   ]
  },
  {
   "cell_type": "markdown",
   "metadata": {},
   "source": [
    "## Linear_regression"
   ]
  },
  {
   "cell_type": "code",
   "execution_count": 39,
   "metadata": {},
   "outputs": [
    {
     "data": {
      "text/plain": [
       "LinearRegression(copy_X=True, fit_intercept=True, n_jobs=None, normalize=False)"
      ]
     },
     "execution_count": 39,
     "metadata": {},
     "output_type": "execute_result"
    }
   ],
   "source": [
    "from sklearn.linear_model import LinearRegression\n",
    "lr = LinearRegression()\n",
    "lr.fit(housing_pre,housing_labels)"
   ]
  },
  {
   "cell_type": "code",
   "execution_count": 40,
   "metadata": {},
   "outputs": [
    {
     "data": {
      "text/plain": [
       "array([210944.00355933, 318525.57377201, 210996.32843857,  60049.49209858,\n",
       "       191123.83671223])"
      ]
     },
     "execution_count": 40,
     "metadata": {},
     "output_type": "execute_result"
    }
   ],
   "source": [
    "some_data = housing.iloc[:5]\n",
    "some_labels = housing_labels.iloc[:5]\n",
    "some_data_pre = full_pipeline.transform(some_data)\n",
    "lr.predict(some_data_pre)"
   ]
  },
  {
   "cell_type": "code",
   "execution_count": 41,
   "metadata": {},
   "outputs": [
    {
     "data": {
      "text/plain": [
       "17606    286600.0\n",
       "18632    340600.0\n",
       "14650    196900.0\n",
       "3230      46300.0\n",
       "3555     254500.0\n",
       "Name: median_house_value, dtype: float64"
      ]
     },
     "execution_count": 41,
     "metadata": {},
     "output_type": "execute_result"
    }
   ],
   "source": [
    "some_labels"
   ]
  },
  {
   "cell_type": "code",
   "execution_count": 42,
   "metadata": {},
   "outputs": [
    {
     "data": {
      "text/plain": [
       "array([210944.00355933, 318525.57377201, 210996.32843857, ...,\n",
       "        95914.86006626, 215141.00642602, 276649.01806786])"
      ]
     },
     "execution_count": 42,
     "metadata": {},
     "output_type": "execute_result"
    }
   ],
   "source": [
    "housing_predictions = lr.predict(housing_pre)\n",
    "housing_predictions"
   ]
  },
  {
   "cell_type": "code",
   "execution_count": 43,
   "metadata": {},
   "outputs": [
    {
     "data": {
      "text/plain": [
       "(16512,)"
      ]
     },
     "execution_count": 43,
     "metadata": {},
     "output_type": "execute_result"
    }
   ],
   "source": [
    "housing_predictions.shape"
   ]
  },
  {
   "cell_type": "code",
   "execution_count": 44,
   "metadata": {},
   "outputs": [
    {
     "data": {
      "text/plain": [
       "17606    286600.0\n",
       "18632    340600.0\n",
       "14650    196900.0\n",
       "3230      46300.0\n",
       "3555     254500.0\n",
       "           ...   \n",
       "6563     240200.0\n",
       "12053    113000.0\n",
       "13908     97800.0\n",
       "11159    225900.0\n",
       "15775    500001.0\n",
       "Name: median_house_value, Length: 16512, dtype: float64"
      ]
     },
     "execution_count": 44,
     "metadata": {},
     "output_type": "execute_result"
    }
   ],
   "source": [
    "housing_labels"
   ]
  },
  {
   "cell_type": "code",
   "execution_count": 45,
   "metadata": {},
   "outputs": [
    {
     "data": {
      "text/plain": [
       "68727.62070058881"
      ]
     },
     "execution_count": 45,
     "metadata": {},
     "output_type": "execute_result"
    }
   ],
   "source": [
    "from sklearn.metrics import mean_squared_error\n",
    "mse = mean_squared_error(housing_labels,housing_predictions)\n",
    "Rmse= np.sqrt(mse)\n",
    "Rmse"
   ]
  },
  {
   "cell_type": "markdown",
   "metadata": {},
   "source": [
    "## DecisionTreeRegressor"
   ]
  },
  {
   "cell_type": "code",
   "execution_count": 46,
   "metadata": {},
   "outputs": [
    {
     "data": {
      "text/plain": [
       "array([286600., 340600., 196900., ...,  97800., 225900., 500001.])"
      ]
     },
     "execution_count": 46,
     "metadata": {},
     "output_type": "execute_result"
    }
   ],
   "source": [
    "from sklearn.tree import DecisionTreeRegressor\n",
    "decisiontree = DecisionTreeRegressor()\n",
    "decisiontree.fit(housing_pre,housing_labels)\n",
    "housing_tree_prediction = decisiontree.predict(housing_pre) \n",
    "housing_tree_prediction"
   ]
  },
  {
   "cell_type": "code",
   "execution_count": 47,
   "metadata": {},
   "outputs": [
    {
     "data": {
      "text/plain": [
       "0.0"
      ]
     },
     "execution_count": 47,
     "metadata": {},
     "output_type": "execute_result"
    }
   ],
   "source": [
    "tree_mse = mean_squared_error(housing_labels,housing_tree_prediction)\n",
    "tree_rmse = np.sqrt(tree_mse)\n",
    "tree_rmse"
   ]
  },
  {
   "cell_type": "markdown",
   "metadata": {},
   "source": [
    "# Cross-Validation"
   ]
  },
  {
   "cell_type": "code",
   "execution_count": 48,
   "metadata": {},
   "outputs": [
    {
     "data": {
      "text/plain": [
       "array([-4.97535462e+09, -4.63573193e+09, -5.19289588e+09, -4.73692749e+09,\n",
       "       -5.01696430e+09, -5.65835570e+09, -4.90205374e+09, -4.93499017e+09,\n",
       "       -5.83428593e+09, -4.79498405e+09])"
      ]
     },
     "execution_count": 48,
     "metadata": {},
     "output_type": "execute_result"
    }
   ],
   "source": [
    "from sklearn.model_selection import cross_val_score \n",
    "score = cross_val_score(decisiontree,housing_pre,housing_labels,scoring= 'neg_mean_squared_error',cv= 10)\n",
    "score\n"
   ]
  },
  {
   "cell_type": "code",
   "execution_count": 49,
   "metadata": {},
   "outputs": [
    {
     "data": {
      "text/plain": [
       "-5068254380.312289"
      ]
     },
     "execution_count": 49,
     "metadata": {},
     "output_type": "execute_result"
    }
   ],
   "source": [
    "score.mean()"
   ]
  },
  {
   "cell_type": "code",
   "execution_count": 50,
   "metadata": {},
   "outputs": [
    {
     "data": {
      "text/plain": [
       "array([70536.19366415, 68086.20951023, 72061.75046103, 68825.3404442 ,\n",
       "       70830.53229244, 75222.04264052, 70014.66803947, 70249.48516453,\n",
       "       76382.49755308, 69245.82334993])"
      ]
     },
     "execution_count": 50,
     "metadata": {},
     "output_type": "execute_result"
    }
   ],
   "source": [
    "rmse = np.sqrt(-score)\n",
    "rmse"
   ]
  },
  {
   "cell_type": "code",
   "execution_count": 51,
   "metadata": {},
   "outputs": [
    {
     "name": "stdout",
     "output_type": "stream",
     "text": [
      "rmse_mean :\n",
      "71145.45431195825\n",
      "rmse_std:\n",
      "2564.8998142912205\n"
     ]
    }
   ],
   "source": [
    "print('rmse_mean :')\n",
    "print(rmse.mean())\n",
    "print('rmse_std:')\n",
    "print(rmse.std())"
   ]
  },
  {
   "cell_type": "code",
   "execution_count": 52,
   "metadata": {},
   "outputs": [
    {
     "data": {
      "text/plain": [
       "array([-4.90692832e+09, -4.56779309e+09, -5.01933280e+09, -4.91045358e+09,\n",
       "       -4.95979119e+09, -5.28376555e+09, -4.95021130e+09, -4.97394112e+09,\n",
       "       -5.60850189e+09, -4.67035712e+09])"
      ]
     },
     "execution_count": 52,
     "metadata": {},
     "output_type": "execute_result"
    }
   ],
   "source": [
    "score1 = cross_val_score(decisiontree,housing_pre,housing_labels,scoring= 'neg_mean_squared_error',cv= 10)\n",
    "score1"
   ]
  },
  {
   "cell_type": "code",
   "execution_count": 53,
   "metadata": {},
   "outputs": [
    {
     "data": {
      "text/plain": [
       "-4985107595.060727"
      ]
     },
     "execution_count": 53,
     "metadata": {},
     "output_type": "execute_result"
    }
   ],
   "source": [
    "score1.mean()"
   ]
  },
  {
   "cell_type": "code",
   "execution_count": 54,
   "metadata": {},
   "outputs": [
    {
     "data": {
      "text/plain": [
       "array([70049.47050186, 67585.45029673, 70847.24974824, 70074.6286386 ,\n",
       "       70425.78496235, 72689.51472766, 70357.73798959, 70526.17330335,\n",
       "       74889.93184253, 68340.01111623])"
      ]
     },
     "execution_count": 54,
     "metadata": {},
     "output_type": "execute_result"
    }
   ],
   "source": [
    "rmse1= np.sqrt(-score1)\n",
    "rmse1"
   ]
  },
  {
   "cell_type": "code",
   "execution_count": 55,
   "metadata": {},
   "outputs": [
    {
     "data": {
      "text/plain": [
       "70578.5953127142"
      ]
     },
     "execution_count": 55,
     "metadata": {},
     "output_type": "execute_result"
    }
   ],
   "source": [
    "rmse1.mean()"
   ]
  },
  {
   "cell_type": "code",
   "execution_count": 56,
   "metadata": {},
   "outputs": [
    {
     "data": {
      "text/plain": [
       "1941.5145492233346"
      ]
     },
     "execution_count": 56,
     "metadata": {},
     "output_type": "execute_result"
    }
   ],
   "source": [
    "rmse1.std()"
   ]
  },
  {
   "cell_type": "code",
   "execution_count": 57,
   "metadata": {},
   "outputs": [
    {
     "data": {
      "text/plain": [
       "array([-4.48791879e+09, -4.49552539e+09, -4.96236499e+09, -5.59115439e+09,\n",
       "       -4.63796994e+09, -5.08640082e+09, -4.23606983e+09, -4.67218220e+09,\n",
       "       -5.15137516e+09, -4.59535567e+09])"
      ]
     },
     "execution_count": 57,
     "metadata": {},
     "output_type": "execute_result"
    }
   ],
   "source": [
    "score2  = cross_val_score(lr, housing_pre,housing_labels,cv =10,scoring = 'neg_mean_squared_error')\n",
    "score2"
   ]
  },
  {
   "cell_type": "code",
   "execution_count": 58,
   "metadata": {},
   "outputs": [
    {
     "data": {
      "text/plain": [
       "array([66991.93077833, 67048.67926539, 70444.05577272, 74774.02214626,\n",
       "       68102.64264448, 71319.00743013, 65085.0968163 , 68353.36278098,\n",
       "       71773.08099554, 67789.05273148])"
      ]
     },
     "execution_count": 58,
     "metadata": {},
     "output_type": "execute_result"
    }
   ],
   "source": [
    "lr_rmse = np.sqrt(-score2)\n",
    "lr_rmse"
   ]
  },
  {
   "cell_type": "code",
   "execution_count": 59,
   "metadata": {},
   "outputs": [
    {
     "data": {
      "text/plain": [
       "69168.09313616119"
      ]
     },
     "execution_count": 59,
     "metadata": {},
     "output_type": "execute_result"
    }
   ],
   "source": [
    "lr_rmse.mean()"
   ]
  },
  {
   "cell_type": "code",
   "execution_count": 60,
   "metadata": {},
   "outputs": [
    {
     "data": {
      "text/plain": [
       "2721.508666429826"
      ]
     },
     "execution_count": 60,
     "metadata": {},
     "output_type": "execute_result"
    }
   ],
   "source": [
    "lr_rmse.std()"
   ]
  },
  {
   "cell_type": "code",
   "execution_count": 61,
   "metadata": {},
   "outputs": [
    {
     "name": "stderr",
     "output_type": "stream",
     "text": [
      "C:\\ProgramData\\Anaconda3\\lib\\site-packages\\sklearn\\ensemble\\forest.py:245: FutureWarning: The default value of n_estimators will change from 10 in version 0.20 to 100 in 0.22.\n",
      "  \"10 in version 0.20 to 100 in 0.22.\", FutureWarning)\n"
     ]
    },
    {
     "data": {
      "text/plain": [
       "array([275990., 340340., 217470.,  50660., 223330.])"
      ]
     },
     "execution_count": 61,
     "metadata": {},
     "output_type": "execute_result"
    }
   ],
   "source": [
    "from sklearn.ensemble import RandomForestRegressor\n",
    "forest_reg = RandomForestRegressor()\n",
    "forest_reg.fit(housing_pre,housing_labels)\n",
    "forest_reg.predict(some_data_pre)"
   ]
  },
  {
   "cell_type": "code",
   "execution_count": 62,
   "metadata": {},
   "outputs": [
    {
     "data": {
      "text/plain": [
       "17606    286600.0\n",
       "18632    340600.0\n",
       "14650    196900.0\n",
       "3230      46300.0\n",
       "3555     254500.0\n",
       "Name: median_house_value, dtype: float64"
      ]
     },
     "execution_count": 62,
     "metadata": {},
     "output_type": "execute_result"
    }
   ],
   "source": [
    "some_labels"
   ]
  },
  {
   "cell_type": "code",
   "execution_count": 63,
   "metadata": {},
   "outputs": [
    {
     "data": {
      "text/plain": [
       "array([-2.73756925e+09, -2.50373863e+09, -2.79479734e+09, -3.00532623e+09,\n",
       "       -2.68670076e+09, -3.24601514e+09, -2.64798152e+09, -2.60713079e+09,\n",
       "       -3.07139148e+09, -2.83234798e+09])"
      ]
     },
     "execution_count": 63,
     "metadata": {},
     "output_type": "execute_result"
    }
   ],
   "source": [
    "cross = cross_val_score(forest_reg , housing_pre,housing_labels ,cv =10,scoring  = 'neg_mean_squared_error')\n",
    "cross"
   ]
  },
  {
   "cell_type": "code",
   "execution_count": 64,
   "metadata": {},
   "outputs": [],
   "source": [
    "cross_rmse = np.sqrt(-cross)"
   ]
  },
  {
   "cell_type": "code",
   "execution_count": 65,
   "metadata": {},
   "outputs": [
    {
     "name": "stdout",
     "output_type": "stream",
     "text": [
      "cross_rmse mean : \n",
      "53001.16181595325\n",
      "cross_rmse standered deviation : \n",
      "2043.711703331252\n"
     ]
    }
   ],
   "source": [
    "print('cross_rmse mean : ')\n",
    "print(cross_rmse.mean())\n",
    "print('cross_rmse standered deviation : ')\n",
    "print(cross_rmse.std())"
   ]
  },
  {
   "cell_type": "markdown",
   "metadata": {},
   "source": [
    "## Saving Model"
   ]
  },
  {
   "cell_type": "code",
   "execution_count": 66,
   "metadata": {},
   "outputs": [
    {
     "name": "stderr",
     "output_type": "stream",
     "text": [
      "C:\\ProgramData\\Anaconda3\\lib\\site-packages\\sklearn\\externals\\joblib\\__init__.py:15: DeprecationWarning: sklearn.externals.joblib is deprecated in 0.21 and will be removed in 0.23. Please import this functionality directly from joblib, which can be installed with: pip install joblib. If this warning is raised when loading pickled models, you may need to re-serialize those models with scikit-learn 0.21+.\n",
      "  warnings.warn(msg, category=DeprecationWarning)\n"
     ]
    },
    {
     "data": {
      "text/plain": [
       "['RandomForestRegressor_model.pkl']"
      ]
     },
     "execution_count": 66,
     "metadata": {},
     "output_type": "execute_result"
    }
   ],
   "source": [
    "from sklearn.externals import joblib\n",
    "filename = 'RandomForestRegressor_model.pkl'\n",
    "joblib.dump(forest_reg,filename)"
   ]
  },
  {
   "cell_type": "code",
   "execution_count": 67,
   "metadata": {},
   "outputs": [],
   "source": [
    "loaded_model = joblib.load(filename)"
   ]
  },
  {
   "cell_type": "code",
   "execution_count": 68,
   "metadata": {},
   "outputs": [
    {
     "data": {
      "text/plain": [
       "array([261360., 345290., 213710.,  48170., 244450.])"
      ]
     },
     "execution_count": 68,
     "metadata": {},
     "output_type": "execute_result"
    }
   ],
   "source": [
    "loaded_model.predict(some_data_pre)"
   ]
  },
  {
   "cell_type": "markdown",
   "metadata": {},
   "source": [
    "# Fine Tune Model"
   ]
  },
  {
   "cell_type": "code",
   "execution_count": 67,
   "metadata": {},
   "outputs": [
    {
     "data": {
      "text/plain": [
       "GridSearchCV(cv=5, error_score='raise-deprecating',\n",
       "             estimator=RandomForestRegressor(bootstrap=True, criterion='mse',\n",
       "                                             max_depth=None,\n",
       "                                             max_features='auto',\n",
       "                                             max_leaf_nodes=None,\n",
       "                                             min_impurity_decrease=0.0,\n",
       "                                             min_impurity_split=None,\n",
       "                                             min_samples_leaf=1,\n",
       "                                             min_samples_split=2,\n",
       "                                             min_weight_fraction_leaf=0.0,\n",
       "                                             n_estimators=10, n_jobs=None,\n",
       "                                             oob_score=False, random_state=None,\n",
       "                                             verbose=0, warm_start=False),\n",
       "             iid='warn', n_jobs=None,\n",
       "             param_grid=[{'max_features': [2, 4, 6, 8],\n",
       "                          'n_estimators': [5, 10, 30]},\n",
       "                         {'bootstrap': [False], 'max_features': [2, 4, 8],\n",
       "                          'n_estimators': [5, 10]}],\n",
       "             pre_dispatch='2*n_jobs', refit=True, return_train_score=False,\n",
       "             scoring='neg_mean_squared_error', verbose=0)"
      ]
     },
     "execution_count": 67,
     "metadata": {},
     "output_type": "execute_result"
    }
   ],
   "source": [
    "from sklearn.model_selection import GridSearchCV\n",
    "parameters = [{'n_estimators' : [5,10,30],'max_features' : [2,4,6,8]},\n",
    "              {'bootstrap':[False],'n_estimators':[5,10] ,'max_features':[2,4,8]}\n",
    "              ]\n",
    "grid_search = GridSearchCV(forest_reg,param_grid = parameters,cv =5 ,scoring = 'neg_mean_squared_error',refit = True)\n",
    "grid_search.fit(housing_pre,housing_labels)"
   ]
  },
  {
   "cell_type": "code",
   "execution_count": 68,
   "metadata": {},
   "outputs": [
    {
     "data": {
      "text/html": [
       "<div>\n",
       "<style scoped>\n",
       "    .dataframe tbody tr th:only-of-type {\n",
       "        vertical-align: middle;\n",
       "    }\n",
       "\n",
       "    .dataframe tbody tr th {\n",
       "        vertical-align: top;\n",
       "    }\n",
       "\n",
       "    .dataframe thead th {\n",
       "        text-align: right;\n",
       "    }\n",
       "</style>\n",
       "<table border=\"1\" class=\"dataframe\">\n",
       "  <thead>\n",
       "    <tr style=\"text-align: right;\">\n",
       "      <th></th>\n",
       "      <th></th>\n",
       "      <th></th>\n",
       "      <th>mean_fit_time</th>\n",
       "      <th>std_fit_time</th>\n",
       "      <th>mean_score_time</th>\n",
       "      <th>std_score_time</th>\n",
       "      <th>params</th>\n",
       "      <th>split0_test_score</th>\n",
       "      <th>split1_test_score</th>\n",
       "      <th>split2_test_score</th>\n",
       "      <th>split3_test_score</th>\n",
       "      <th>split4_test_score</th>\n",
       "      <th>mean_test_score</th>\n",
       "      <th>std_test_score</th>\n",
       "      <th>rank_test_score</th>\n",
       "    </tr>\n",
       "    <tr>\n",
       "      <th>param_bootstrap</th>\n",
       "      <th>param_max_features</th>\n",
       "      <th>param_n_estimators</th>\n",
       "      <th></th>\n",
       "      <th></th>\n",
       "      <th></th>\n",
       "      <th></th>\n",
       "      <th></th>\n",
       "      <th></th>\n",
       "      <th></th>\n",
       "      <th></th>\n",
       "      <th></th>\n",
       "      <th></th>\n",
       "      <th></th>\n",
       "      <th></th>\n",
       "      <th></th>\n",
       "    </tr>\n",
       "  </thead>\n",
       "  <tbody>\n",
       "    <tr>\n",
       "      <td rowspan=\"12\" valign=\"top\">NaN</td>\n",
       "      <td rowspan=\"3\" valign=\"top\">2</td>\n",
       "      <td>5</td>\n",
       "      <td>0.145854</td>\n",
       "      <td>0.031387</td>\n",
       "      <td>0.005787</td>\n",
       "      <td>0.000400</td>\n",
       "      <td>{'max_features': 2, 'n_estimators': 5}</td>\n",
       "      <td>-3.407410e+09</td>\n",
       "      <td>-3.597479e+09</td>\n",
       "      <td>-3.607901e+09</td>\n",
       "      <td>-3.307928e+09</td>\n",
       "      <td>-3.541611e+09</td>\n",
       "      <td>-3.492467e+09</td>\n",
       "      <td>1.166656e+08</td>\n",
       "      <td>18</td>\n",
       "    </tr>\n",
       "    <tr>\n",
       "      <td>10</td>\n",
       "      <td>0.249722</td>\n",
       "      <td>0.009963</td>\n",
       "      <td>0.010970</td>\n",
       "      <td>0.000632</td>\n",
       "      <td>{'max_features': 2, 'n_estimators': 10}</td>\n",
       "      <td>-2.749738e+09</td>\n",
       "      <td>-3.162355e+09</td>\n",
       "      <td>-3.287791e+09</td>\n",
       "      <td>-3.064016e+09</td>\n",
       "      <td>-3.219798e+09</td>\n",
       "      <td>-3.096722e+09</td>\n",
       "      <td>1.883863e+08</td>\n",
       "      <td>15</td>\n",
       "    </tr>\n",
       "    <tr>\n",
       "      <td>30</td>\n",
       "      <td>0.735035</td>\n",
       "      <td>0.041519</td>\n",
       "      <td>0.030914</td>\n",
       "      <td>0.002524</td>\n",
       "      <td>{'max_features': 2, 'n_estimators': 30}</td>\n",
       "      <td>-2.621787e+09</td>\n",
       "      <td>-2.918772e+09</td>\n",
       "      <td>-2.853663e+09</td>\n",
       "      <td>-2.613486e+09</td>\n",
       "      <td>-2.963834e+09</td>\n",
       "      <td>-2.794306e+09</td>\n",
       "      <td>1.484681e+08</td>\n",
       "      <td>8</td>\n",
       "    </tr>\n",
       "    <tr>\n",
       "      <td rowspan=\"3\" valign=\"top\">4</td>\n",
       "      <td>5</td>\n",
       "      <td>0.182555</td>\n",
       "      <td>0.004459</td>\n",
       "      <td>0.006182</td>\n",
       "      <td>0.000398</td>\n",
       "      <td>{'max_features': 4, 'n_estimators': 5}</td>\n",
       "      <td>-2.889927e+09</td>\n",
       "      <td>-3.145283e+09</td>\n",
       "      <td>-3.025083e+09</td>\n",
       "      <td>-3.136487e+09</td>\n",
       "      <td>-3.209037e+09</td>\n",
       "      <td>-3.081156e+09</td>\n",
       "      <td>1.124675e+08</td>\n",
       "      <td>14</td>\n",
       "    </tr>\n",
       "    <tr>\n",
       "      <td>10</td>\n",
       "      <td>0.370634</td>\n",
       "      <td>0.018497</td>\n",
       "      <td>0.010370</td>\n",
       "      <td>0.000490</td>\n",
       "      <td>{'max_features': 4, 'n_estimators': 10}</td>\n",
       "      <td>-2.658113e+09</td>\n",
       "      <td>-2.895415e+09</td>\n",
       "      <td>-2.876090e+09</td>\n",
       "      <td>-2.626453e+09</td>\n",
       "      <td>-2.928020e+09</td>\n",
       "      <td>-2.796816e+09</td>\n",
       "      <td>1.276569e+08</td>\n",
       "      <td>9</td>\n",
       "    </tr>\n",
       "    <tr>\n",
       "      <td>30</td>\n",
       "      <td>1.096865</td>\n",
       "      <td>0.022398</td>\n",
       "      <td>0.029131</td>\n",
       "      <td>0.001480</td>\n",
       "      <td>{'max_features': 4, 'n_estimators': 30}</td>\n",
       "      <td>-2.406141e+09</td>\n",
       "      <td>-2.601667e+09</td>\n",
       "      <td>-2.689398e+09</td>\n",
       "      <td>-2.376080e+09</td>\n",
       "      <td>-2.621569e+09</td>\n",
       "      <td>-2.538967e+09</td>\n",
       "      <td>1.245439e+08</td>\n",
       "      <td>3</td>\n",
       "    </tr>\n",
       "    <tr>\n",
       "      <td rowspan=\"3\" valign=\"top\">6</td>\n",
       "      <td>5</td>\n",
       "      <td>0.253731</td>\n",
       "      <td>0.004485</td>\n",
       "      <td>0.005203</td>\n",
       "      <td>0.000395</td>\n",
       "      <td>{'max_features': 6, 'n_estimators': 5}</td>\n",
       "      <td>-3.149752e+09</td>\n",
       "      <td>-2.941940e+09</td>\n",
       "      <td>-3.380369e+09</td>\n",
       "      <td>-2.981307e+09</td>\n",
       "      <td>-3.166084e+09</td>\n",
       "      <td>-3.123881e+09</td>\n",
       "      <td>1.559885e+08</td>\n",
       "      <td>16</td>\n",
       "    </tr>\n",
       "    <tr>\n",
       "      <td>10</td>\n",
       "      <td>0.495328</td>\n",
       "      <td>0.008192</td>\n",
       "      <td>0.009776</td>\n",
       "      <td>0.000400</td>\n",
       "      <td>{'max_features': 6, 'n_estimators': 10}</td>\n",
       "      <td>-2.596638e+09</td>\n",
       "      <td>-2.808507e+09</td>\n",
       "      <td>-2.908272e+09</td>\n",
       "      <td>-2.497257e+09</td>\n",
       "      <td>-2.848265e+09</td>\n",
       "      <td>-2.731784e+09</td>\n",
       "      <td>1.573926e+08</td>\n",
       "      <td>7</td>\n",
       "    </tr>\n",
       "    <tr>\n",
       "      <td>30</td>\n",
       "      <td>1.692349</td>\n",
       "      <td>0.198216</td>\n",
       "      <td>0.035700</td>\n",
       "      <td>0.004840</td>\n",
       "      <td>{'max_features': 6, 'n_estimators': 30}</td>\n",
       "      <td>-2.361325e+09</td>\n",
       "      <td>-2.513944e+09</td>\n",
       "      <td>-2.599813e+09</td>\n",
       "      <td>-2.336333e+09</td>\n",
       "      <td>-2.637376e+09</td>\n",
       "      <td>-2.489752e+09</td>\n",
       "      <td>1.220808e+08</td>\n",
       "      <td>1</td>\n",
       "    </tr>\n",
       "    <tr>\n",
       "      <td rowspan=\"3\" valign=\"top\">8</td>\n",
       "      <td>5</td>\n",
       "      <td>0.423067</td>\n",
       "      <td>0.010560</td>\n",
       "      <td>0.007370</td>\n",
       "      <td>0.001021</td>\n",
       "      <td>{'max_features': 8, 'n_estimators': 5}</td>\n",
       "      <td>-2.880431e+09</td>\n",
       "      <td>-2.972799e+09</td>\n",
       "      <td>-3.340438e+09</td>\n",
       "      <td>-2.912317e+09</td>\n",
       "      <td>-3.128421e+09</td>\n",
       "      <td>-3.046867e+09</td>\n",
       "      <td>1.697751e+08</td>\n",
       "      <td>13</td>\n",
       "    </tr>\n",
       "    <tr>\n",
       "      <td>10</td>\n",
       "      <td>0.816619</td>\n",
       "      <td>0.028710</td>\n",
       "      <td>0.012362</td>\n",
       "      <td>0.000471</td>\n",
       "      <td>{'max_features': 8, 'n_estimators': 10}</td>\n",
       "      <td>-2.577240e+09</td>\n",
       "      <td>-2.762453e+09</td>\n",
       "      <td>-2.899690e+09</td>\n",
       "      <td>-2.612490e+09</td>\n",
       "      <td>-2.777283e+09</td>\n",
       "      <td>-2.725824e+09</td>\n",
       "      <td>1.175924e+08</td>\n",
       "      <td>6</td>\n",
       "    </tr>\n",
       "    <tr>\n",
       "      <td>30</td>\n",
       "      <td>2.079657</td>\n",
       "      <td>0.202881</td>\n",
       "      <td>0.030716</td>\n",
       "      <td>0.001468</td>\n",
       "      <td>{'max_features': 8, 'n_estimators': 30}</td>\n",
       "      <td>-2.379887e+09</td>\n",
       "      <td>-2.510615e+09</td>\n",
       "      <td>-2.676455e+09</td>\n",
       "      <td>-2.291559e+09</td>\n",
       "      <td>-2.658100e+09</td>\n",
       "      <td>-2.503316e+09</td>\n",
       "      <td>1.510331e+08</td>\n",
       "      <td>2</td>\n",
       "    </tr>\n",
       "    <tr>\n",
       "      <td rowspan=\"6\" valign=\"top\">False</td>\n",
       "      <td rowspan=\"2\" valign=\"top\">2</td>\n",
       "      <td>5</td>\n",
       "      <td>0.189698</td>\n",
       "      <td>0.007179</td>\n",
       "      <td>0.006370</td>\n",
       "      <td>0.000500</td>\n",
       "      <td>{'bootstrap': False, 'max_features': 2, 'n_est...</td>\n",
       "      <td>-3.163428e+09</td>\n",
       "      <td>-3.311358e+09</td>\n",
       "      <td>-3.462496e+09</td>\n",
       "      <td>-3.040469e+09</td>\n",
       "      <td>-3.406554e+09</td>\n",
       "      <td>-3.276856e+09</td>\n",
       "      <td>1.556972e+08</td>\n",
       "      <td>17</td>\n",
       "    </tr>\n",
       "    <tr>\n",
       "      <td>10</td>\n",
       "      <td>0.368641</td>\n",
       "      <td>0.008302</td>\n",
       "      <td>0.011562</td>\n",
       "      <td>0.000484</td>\n",
       "      <td>{'bootstrap': False, 'max_features': 2, 'n_est...</td>\n",
       "      <td>-2.695564e+09</td>\n",
       "      <td>-2.937711e+09</td>\n",
       "      <td>-3.068445e+09</td>\n",
       "      <td>-2.816255e+09</td>\n",
       "      <td>-2.910824e+09</td>\n",
       "      <td>-2.885752e+09</td>\n",
       "      <td>1.246667e+08</td>\n",
       "      <td>11</td>\n",
       "    </tr>\n",
       "    <tr>\n",
       "      <td rowspan=\"2\" valign=\"top\">4</td>\n",
       "      <td>5</td>\n",
       "      <td>0.302801</td>\n",
       "      <td>0.016234</td>\n",
       "      <td>0.006381</td>\n",
       "      <td>0.000491</td>\n",
       "      <td>{'bootstrap': False, 'max_features': 4, 'n_est...</td>\n",
       "      <td>-2.765948e+09</td>\n",
       "      <td>-3.163080e+09</td>\n",
       "      <td>-3.246505e+09</td>\n",
       "      <td>-2.800207e+09</td>\n",
       "      <td>-3.079462e+09</td>\n",
       "      <td>-3.011035e+09</td>\n",
       "      <td>1.937855e+08</td>\n",
       "      <td>12</td>\n",
       "    </tr>\n",
       "    <tr>\n",
       "      <td>10</td>\n",
       "      <td>0.606862</td>\n",
       "      <td>0.018326</td>\n",
       "      <td>0.011968</td>\n",
       "      <td>0.000003</td>\n",
       "      <td>{'bootstrap': False, 'max_features': 4, 'n_est...</td>\n",
       "      <td>-2.485379e+09</td>\n",
       "      <td>-2.842956e+09</td>\n",
       "      <td>-2.935625e+09</td>\n",
       "      <td>-2.526445e+09</td>\n",
       "      <td>-2.823015e+09</td>\n",
       "      <td>-2.722677e+09</td>\n",
       "      <td>1.814942e+08</td>\n",
       "      <td>5</td>\n",
       "    </tr>\n",
       "    <tr>\n",
       "      <td rowspan=\"2\" valign=\"top\">8</td>\n",
       "      <td>5</td>\n",
       "      <td>0.532775</td>\n",
       "      <td>0.021742</td>\n",
       "      <td>0.006982</td>\n",
       "      <td>0.001092</td>\n",
       "      <td>{'bootstrap': False, 'max_features': 8, 'n_est...</td>\n",
       "      <td>-2.714105e+09</td>\n",
       "      <td>-2.820154e+09</td>\n",
       "      <td>-3.060675e+09</td>\n",
       "      <td>-2.645923e+09</td>\n",
       "      <td>-2.935541e+09</td>\n",
       "      <td>-2.835272e+09</td>\n",
       "      <td>1.494085e+08</td>\n",
       "      <td>10</td>\n",
       "    </tr>\n",
       "    <tr>\n",
       "      <td>10</td>\n",
       "      <td>1.262991</td>\n",
       "      <td>0.210977</td>\n",
       "      <td>0.018941</td>\n",
       "      <td>0.011051</td>\n",
       "      <td>{'bootstrap': False, 'max_features': 8, 'n_est...</td>\n",
       "      <td>-2.525182e+09</td>\n",
       "      <td>-2.673058e+09</td>\n",
       "      <td>-2.633536e+09</td>\n",
       "      <td>-2.468456e+09</td>\n",
       "      <td>-2.637901e+09</td>\n",
       "      <td>-2.587628e+09</td>\n",
       "      <td>7.750395e+07</td>\n",
       "      <td>4</td>\n",
       "    </tr>\n",
       "  </tbody>\n",
       "</table>\n",
       "</div>"
      ],
      "text/plain": [
       "                                                       mean_fit_time  \\\n",
       "param_bootstrap param_max_features param_n_estimators                  \n",
       "NaN             2                  5                        0.145854   \n",
       "                                   10                       0.249722   \n",
       "                                   30                       0.735035   \n",
       "                4                  5                        0.182555   \n",
       "                                   10                       0.370634   \n",
       "                                   30                       1.096865   \n",
       "                6                  5                        0.253731   \n",
       "                                   10                       0.495328   \n",
       "                                   30                       1.692349   \n",
       "                8                  5                        0.423067   \n",
       "                                   10                       0.816619   \n",
       "                                   30                       2.079657   \n",
       "False           2                  5                        0.189698   \n",
       "                                   10                       0.368641   \n",
       "                4                  5                        0.302801   \n",
       "                                   10                       0.606862   \n",
       "                8                  5                        0.532775   \n",
       "                                   10                       1.262991   \n",
       "\n",
       "                                                       std_fit_time  \\\n",
       "param_bootstrap param_max_features param_n_estimators                 \n",
       "NaN             2                  5                       0.031387   \n",
       "                                   10                      0.009963   \n",
       "                                   30                      0.041519   \n",
       "                4                  5                       0.004459   \n",
       "                                   10                      0.018497   \n",
       "                                   30                      0.022398   \n",
       "                6                  5                       0.004485   \n",
       "                                   10                      0.008192   \n",
       "                                   30                      0.198216   \n",
       "                8                  5                       0.010560   \n",
       "                                   10                      0.028710   \n",
       "                                   30                      0.202881   \n",
       "False           2                  5                       0.007179   \n",
       "                                   10                      0.008302   \n",
       "                4                  5                       0.016234   \n",
       "                                   10                      0.018326   \n",
       "                8                  5                       0.021742   \n",
       "                                   10                      0.210977   \n",
       "\n",
       "                                                       mean_score_time  \\\n",
       "param_bootstrap param_max_features param_n_estimators                    \n",
       "NaN             2                  5                          0.005787   \n",
       "                                   10                         0.010970   \n",
       "                                   30                         0.030914   \n",
       "                4                  5                          0.006182   \n",
       "                                   10                         0.010370   \n",
       "                                   30                         0.029131   \n",
       "                6                  5                          0.005203   \n",
       "                                   10                         0.009776   \n",
       "                                   30                         0.035700   \n",
       "                8                  5                          0.007370   \n",
       "                                   10                         0.012362   \n",
       "                                   30                         0.030716   \n",
       "False           2                  5                          0.006370   \n",
       "                                   10                         0.011562   \n",
       "                4                  5                          0.006381   \n",
       "                                   10                         0.011968   \n",
       "                8                  5                          0.006982   \n",
       "                                   10                         0.018941   \n",
       "\n",
       "                                                       std_score_time  \\\n",
       "param_bootstrap param_max_features param_n_estimators                   \n",
       "NaN             2                  5                         0.000400   \n",
       "                                   10                        0.000632   \n",
       "                                   30                        0.002524   \n",
       "                4                  5                         0.000398   \n",
       "                                   10                        0.000490   \n",
       "                                   30                        0.001480   \n",
       "                6                  5                         0.000395   \n",
       "                                   10                        0.000400   \n",
       "                                   30                        0.004840   \n",
       "                8                  5                         0.001021   \n",
       "                                   10                        0.000471   \n",
       "                                   30                        0.001468   \n",
       "False           2                  5                         0.000500   \n",
       "                                   10                        0.000484   \n",
       "                4                  5                         0.000491   \n",
       "                                   10                        0.000003   \n",
       "                8                  5                         0.001092   \n",
       "                                   10                        0.011051   \n",
       "\n",
       "                                                                                                  params  \\\n",
       "param_bootstrap param_max_features param_n_estimators                                                      \n",
       "NaN             2                  5                              {'max_features': 2, 'n_estimators': 5}   \n",
       "                                   10                            {'max_features': 2, 'n_estimators': 10}   \n",
       "                                   30                            {'max_features': 2, 'n_estimators': 30}   \n",
       "                4                  5                              {'max_features': 4, 'n_estimators': 5}   \n",
       "                                   10                            {'max_features': 4, 'n_estimators': 10}   \n",
       "                                   30                            {'max_features': 4, 'n_estimators': 30}   \n",
       "                6                  5                              {'max_features': 6, 'n_estimators': 5}   \n",
       "                                   10                            {'max_features': 6, 'n_estimators': 10}   \n",
       "                                   30                            {'max_features': 6, 'n_estimators': 30}   \n",
       "                8                  5                              {'max_features': 8, 'n_estimators': 5}   \n",
       "                                   10                            {'max_features': 8, 'n_estimators': 10}   \n",
       "                                   30                            {'max_features': 8, 'n_estimators': 30}   \n",
       "False           2                  5                   {'bootstrap': False, 'max_features': 2, 'n_est...   \n",
       "                                   10                  {'bootstrap': False, 'max_features': 2, 'n_est...   \n",
       "                4                  5                   {'bootstrap': False, 'max_features': 4, 'n_est...   \n",
       "                                   10                  {'bootstrap': False, 'max_features': 4, 'n_est...   \n",
       "                8                  5                   {'bootstrap': False, 'max_features': 8, 'n_est...   \n",
       "                                   10                  {'bootstrap': False, 'max_features': 8, 'n_est...   \n",
       "\n",
       "                                                       split0_test_score  \\\n",
       "param_bootstrap param_max_features param_n_estimators                      \n",
       "NaN             2                  5                       -3.407410e+09   \n",
       "                                   10                      -2.749738e+09   \n",
       "                                   30                      -2.621787e+09   \n",
       "                4                  5                       -2.889927e+09   \n",
       "                                   10                      -2.658113e+09   \n",
       "                                   30                      -2.406141e+09   \n",
       "                6                  5                       -3.149752e+09   \n",
       "                                   10                      -2.596638e+09   \n",
       "                                   30                      -2.361325e+09   \n",
       "                8                  5                       -2.880431e+09   \n",
       "                                   10                      -2.577240e+09   \n",
       "                                   30                      -2.379887e+09   \n",
       "False           2                  5                       -3.163428e+09   \n",
       "                                   10                      -2.695564e+09   \n",
       "                4                  5                       -2.765948e+09   \n",
       "                                   10                      -2.485379e+09   \n",
       "                8                  5                       -2.714105e+09   \n",
       "                                   10                      -2.525182e+09   \n",
       "\n",
       "                                                       split1_test_score  \\\n",
       "param_bootstrap param_max_features param_n_estimators                      \n",
       "NaN             2                  5                       -3.597479e+09   \n",
       "                                   10                      -3.162355e+09   \n",
       "                                   30                      -2.918772e+09   \n",
       "                4                  5                       -3.145283e+09   \n",
       "                                   10                      -2.895415e+09   \n",
       "                                   30                      -2.601667e+09   \n",
       "                6                  5                       -2.941940e+09   \n",
       "                                   10                      -2.808507e+09   \n",
       "                                   30                      -2.513944e+09   \n",
       "                8                  5                       -2.972799e+09   \n",
       "                                   10                      -2.762453e+09   \n",
       "                                   30                      -2.510615e+09   \n",
       "False           2                  5                       -3.311358e+09   \n",
       "                                   10                      -2.937711e+09   \n",
       "                4                  5                       -3.163080e+09   \n",
       "                                   10                      -2.842956e+09   \n",
       "                8                  5                       -2.820154e+09   \n",
       "                                   10                      -2.673058e+09   \n",
       "\n",
       "                                                       split2_test_score  \\\n",
       "param_bootstrap param_max_features param_n_estimators                      \n",
       "NaN             2                  5                       -3.607901e+09   \n",
       "                                   10                      -3.287791e+09   \n",
       "                                   30                      -2.853663e+09   \n",
       "                4                  5                       -3.025083e+09   \n",
       "                                   10                      -2.876090e+09   \n",
       "                                   30                      -2.689398e+09   \n",
       "                6                  5                       -3.380369e+09   \n",
       "                                   10                      -2.908272e+09   \n",
       "                                   30                      -2.599813e+09   \n",
       "                8                  5                       -3.340438e+09   \n",
       "                                   10                      -2.899690e+09   \n",
       "                                   30                      -2.676455e+09   \n",
       "False           2                  5                       -3.462496e+09   \n",
       "                                   10                      -3.068445e+09   \n",
       "                4                  5                       -3.246505e+09   \n",
       "                                   10                      -2.935625e+09   \n",
       "                8                  5                       -3.060675e+09   \n",
       "                                   10                      -2.633536e+09   \n",
       "\n",
       "                                                       split3_test_score  \\\n",
       "param_bootstrap param_max_features param_n_estimators                      \n",
       "NaN             2                  5                       -3.307928e+09   \n",
       "                                   10                      -3.064016e+09   \n",
       "                                   30                      -2.613486e+09   \n",
       "                4                  5                       -3.136487e+09   \n",
       "                                   10                      -2.626453e+09   \n",
       "                                   30                      -2.376080e+09   \n",
       "                6                  5                       -2.981307e+09   \n",
       "                                   10                      -2.497257e+09   \n",
       "                                   30                      -2.336333e+09   \n",
       "                8                  5                       -2.912317e+09   \n",
       "                                   10                      -2.612490e+09   \n",
       "                                   30                      -2.291559e+09   \n",
       "False           2                  5                       -3.040469e+09   \n",
       "                                   10                      -2.816255e+09   \n",
       "                4                  5                       -2.800207e+09   \n",
       "                                   10                      -2.526445e+09   \n",
       "                8                  5                       -2.645923e+09   \n",
       "                                   10                      -2.468456e+09   \n",
       "\n",
       "                                                       split4_test_score  \\\n",
       "param_bootstrap param_max_features param_n_estimators                      \n",
       "NaN             2                  5                       -3.541611e+09   \n",
       "                                   10                      -3.219798e+09   \n",
       "                                   30                      -2.963834e+09   \n",
       "                4                  5                       -3.209037e+09   \n",
       "                                   10                      -2.928020e+09   \n",
       "                                   30                      -2.621569e+09   \n",
       "                6                  5                       -3.166084e+09   \n",
       "                                   10                      -2.848265e+09   \n",
       "                                   30                      -2.637376e+09   \n",
       "                8                  5                       -3.128421e+09   \n",
       "                                   10                      -2.777283e+09   \n",
       "                                   30                      -2.658100e+09   \n",
       "False           2                  5                       -3.406554e+09   \n",
       "                                   10                      -2.910824e+09   \n",
       "                4                  5                       -3.079462e+09   \n",
       "                                   10                      -2.823015e+09   \n",
       "                8                  5                       -2.935541e+09   \n",
       "                                   10                      -2.637901e+09   \n",
       "\n",
       "                                                       mean_test_score  \\\n",
       "param_bootstrap param_max_features param_n_estimators                    \n",
       "NaN             2                  5                     -3.492467e+09   \n",
       "                                   10                    -3.096722e+09   \n",
       "                                   30                    -2.794306e+09   \n",
       "                4                  5                     -3.081156e+09   \n",
       "                                   10                    -2.796816e+09   \n",
       "                                   30                    -2.538967e+09   \n",
       "                6                  5                     -3.123881e+09   \n",
       "                                   10                    -2.731784e+09   \n",
       "                                   30                    -2.489752e+09   \n",
       "                8                  5                     -3.046867e+09   \n",
       "                                   10                    -2.725824e+09   \n",
       "                                   30                    -2.503316e+09   \n",
       "False           2                  5                     -3.276856e+09   \n",
       "                                   10                    -2.885752e+09   \n",
       "                4                  5                     -3.011035e+09   \n",
       "                                   10                    -2.722677e+09   \n",
       "                8                  5                     -2.835272e+09   \n",
       "                                   10                    -2.587628e+09   \n",
       "\n",
       "                                                       std_test_score  \\\n",
       "param_bootstrap param_max_features param_n_estimators                   \n",
       "NaN             2                  5                     1.166656e+08   \n",
       "                                   10                    1.883863e+08   \n",
       "                                   30                    1.484681e+08   \n",
       "                4                  5                     1.124675e+08   \n",
       "                                   10                    1.276569e+08   \n",
       "                                   30                    1.245439e+08   \n",
       "                6                  5                     1.559885e+08   \n",
       "                                   10                    1.573926e+08   \n",
       "                                   30                    1.220808e+08   \n",
       "                8                  5                     1.697751e+08   \n",
       "                                   10                    1.175924e+08   \n",
       "                                   30                    1.510331e+08   \n",
       "False           2                  5                     1.556972e+08   \n",
       "                                   10                    1.246667e+08   \n",
       "                4                  5                     1.937855e+08   \n",
       "                                   10                    1.814942e+08   \n",
       "                8                  5                     1.494085e+08   \n",
       "                                   10                    7.750395e+07   \n",
       "\n",
       "                                                       rank_test_score  \n",
       "param_bootstrap param_max_features param_n_estimators                   \n",
       "NaN             2                  5                                18  \n",
       "                                   10                               15  \n",
       "                                   30                                8  \n",
       "                4                  5                                14  \n",
       "                                   10                                9  \n",
       "                                   30                                3  \n",
       "                6                  5                                16  \n",
       "                                   10                                7  \n",
       "                                   30                                1  \n",
       "                8                  5                                13  \n",
       "                                   10                                6  \n",
       "                                   30                                2  \n",
       "False           2                  5                                17  \n",
       "                                   10                               11  \n",
       "                4                  5                                12  \n",
       "                                   10                                5  \n",
       "                8                  5                                10  \n",
       "                                   10                                4  "
      ]
     },
     "execution_count": 68,
     "metadata": {},
     "output_type": "execute_result"
    }
   ],
   "source": [
    "d = grid_search.cv_results_\n",
    "df_reg = pd.DataFrame(d)\n",
    "df_reg.set_index(['param_bootstrap','param_max_features','param_n_estimators'])"
   ]
  },
  {
   "cell_type": "code",
   "execution_count": 69,
   "metadata": {},
   "outputs": [
    {
     "data": {
      "text/plain": [
       "{'mean_fit_time': array([0.14585371, 0.24972177, 0.73503528, 0.18255544, 0.37063351,\n",
       "        1.0968646 , 0.25373063, 0.49532819, 1.69234872, 0.42306685,\n",
       "        0.81661859, 2.0796566 , 0.18969827, 0.36864095, 0.30280118,\n",
       "        0.60686245, 0.53277488, 1.26299086]),\n",
       " 'std_fit_time': array([0.03138736, 0.00996252, 0.04151938, 0.00445926, 0.01849742,\n",
       "        0.02239824, 0.00448526, 0.0081915 , 0.19821601, 0.01055958,\n",
       "        0.02871009, 0.20288149, 0.00717906, 0.00830237, 0.01623444,\n",
       "        0.01832595, 0.02174188, 0.21097661]),\n",
       " 'mean_score_time': array([0.00578737, 0.01096978, 0.0309144 , 0.00618186, 0.01036978,\n",
       "        0.0291306 , 0.00520296, 0.0097764 , 0.03570008, 0.0073698 ,\n",
       "        0.01236157, 0.03071628, 0.00637035, 0.01156173, 0.00638132,\n",
       "        0.01196804, 0.00698156, 0.01894093]),\n",
       " 'std_score_time': array([3.99604191e-04, 6.31878896e-04, 2.52434602e-03, 3.98126435e-04,\n",
       "        4.90088768e-04, 1.48015176e-03, 3.94664592e-04, 4.00102276e-04,\n",
       "        4.84016726e-03, 1.02107709e-03, 4.71274628e-04, 1.46752430e-03,\n",
       "        4.99753878e-04, 4.83607498e-04, 4.90640583e-04, 2.77468424e-06,\n",
       "        1.09199374e-03, 1.10510682e-02]),\n",
       " 'param_max_features': masked_array(data=[2, 2, 2, 4, 4, 4, 6, 6, 6, 8, 8, 8, 2, 2, 4, 4, 8, 8],\n",
       "              mask=[False, False, False, False, False, False, False, False,\n",
       "                    False, False, False, False, False, False, False, False,\n",
       "                    False, False],\n",
       "        fill_value='?',\n",
       "             dtype=object),\n",
       " 'param_n_estimators': masked_array(data=[5, 10, 30, 5, 10, 30, 5, 10, 30, 5, 10, 30, 5, 10, 5,\n",
       "                    10, 5, 10],\n",
       "              mask=[False, False, False, False, False, False, False, False,\n",
       "                    False, False, False, False, False, False, False, False,\n",
       "                    False, False],\n",
       "        fill_value='?',\n",
       "             dtype=object),\n",
       " 'param_bootstrap': masked_array(data=[--, --, --, --, --, --, --, --, --, --, --, --, False,\n",
       "                    False, False, False, False, False],\n",
       "              mask=[ True,  True,  True,  True,  True,  True,  True,  True,\n",
       "                     True,  True,  True,  True, False, False, False, False,\n",
       "                    False, False],\n",
       "        fill_value='?',\n",
       "             dtype=object),\n",
       " 'params': [{'max_features': 2, 'n_estimators': 5},\n",
       "  {'max_features': 2, 'n_estimators': 10},\n",
       "  {'max_features': 2, 'n_estimators': 30},\n",
       "  {'max_features': 4, 'n_estimators': 5},\n",
       "  {'max_features': 4, 'n_estimators': 10},\n",
       "  {'max_features': 4, 'n_estimators': 30},\n",
       "  {'max_features': 6, 'n_estimators': 5},\n",
       "  {'max_features': 6, 'n_estimators': 10},\n",
       "  {'max_features': 6, 'n_estimators': 30},\n",
       "  {'max_features': 8, 'n_estimators': 5},\n",
       "  {'max_features': 8, 'n_estimators': 10},\n",
       "  {'max_features': 8, 'n_estimators': 30},\n",
       "  {'bootstrap': False, 'max_features': 2, 'n_estimators': 5},\n",
       "  {'bootstrap': False, 'max_features': 2, 'n_estimators': 10},\n",
       "  {'bootstrap': False, 'max_features': 4, 'n_estimators': 5},\n",
       "  {'bootstrap': False, 'max_features': 4, 'n_estimators': 10},\n",
       "  {'bootstrap': False, 'max_features': 8, 'n_estimators': 5},\n",
       "  {'bootstrap': False, 'max_features': 8, 'n_estimators': 10}],\n",
       " 'split0_test_score': array([-3.40740992e+09, -2.74973755e+09, -2.62178697e+09, -2.88992673e+09,\n",
       "        -2.65811299e+09, -2.40614101e+09, -3.14975214e+09, -2.59663761e+09,\n",
       "        -2.36132451e+09, -2.88043127e+09, -2.57723962e+09, -2.37988719e+09,\n",
       "        -3.16342846e+09, -2.69556392e+09, -2.76594850e+09, -2.48537851e+09,\n",
       "        -2.71410467e+09, -2.52518172e+09]),\n",
       " 'split1_test_score': array([-3.59747919e+09, -3.16235536e+09, -2.91877164e+09, -3.14528288e+09,\n",
       "        -2.89541498e+09, -2.60166673e+09, -2.94193957e+09, -2.80850720e+09,\n",
       "        -2.51394437e+09, -2.97279911e+09, -2.76245347e+09, -2.51061536e+09,\n",
       "        -3.31135823e+09, -2.93771114e+09, -3.16307962e+09, -2.84295649e+09,\n",
       "        -2.82015423e+09, -2.67305759e+09]),\n",
       " 'split2_test_score': array([-3.60790129e+09, -3.28779067e+09, -2.85366308e+09, -3.02508328e+09,\n",
       "        -2.87609013e+09, -2.68939794e+09, -3.38036913e+09, -2.90827205e+09,\n",
       "        -2.59981279e+09, -3.34043753e+09, -2.89969036e+09, -2.67645509e+09,\n",
       "        -3.46249556e+09, -3.06844544e+09, -3.24650485e+09, -2.93562469e+09,\n",
       "        -3.06067537e+09, -2.63353628e+09]),\n",
       " 'split3_test_score': array([-3.30792823e+09, -3.06401551e+09, -2.61348602e+09, -3.13648684e+09,\n",
       "        -2.62645346e+09, -2.37607977e+09, -2.98130689e+09, -2.49725689e+09,\n",
       "        -2.33633292e+09, -2.91231712e+09, -2.61248989e+09, -2.29155947e+09,\n",
       "        -3.04046917e+09, -2.81625499e+09, -2.80020718e+09, -2.52644465e+09,\n",
       "        -2.64592348e+09, -2.46845650e+09]),\n",
       " 'split4_test_score': array([-3.54161116e+09, -3.21979827e+09, -2.96383439e+09, -3.20903696e+09,\n",
       "        -2.92801989e+09, -2.62156851e+09, -3.16608420e+09, -2.84826479e+09,\n",
       "        -2.63737568e+09, -3.12842143e+09, -2.77728296e+09, -2.65810049e+09,\n",
       "        -3.40655365e+09, -2.91082425e+09, -3.07946230e+09, -2.82301483e+09,\n",
       "        -2.93554140e+09, -2.63790111e+09]),\n",
       " 'mean_test_score': array([-3.49246717e+09, -3.09672243e+09, -2.79430551e+09, -3.08115564e+09,\n",
       "        -2.79681586e+09, -2.53896654e+09, -3.12388093e+09, -2.73178417e+09,\n",
       "        -2.48975174e+09, -3.04686672e+09, -2.72582448e+09, -2.50331648e+09,\n",
       "        -3.27685623e+09, -2.88575157e+09, -3.01103485e+09, -2.72267675e+09,\n",
       "        -2.83527158e+09, -2.58762803e+09]),\n",
       " 'std_test_score': array([1.16665621e+08, 1.88386272e+08, 1.48468089e+08, 1.12467545e+08,\n",
       "        1.27656904e+08, 1.24543858e+08, 1.55988548e+08, 1.57392551e+08,\n",
       "        1.22080775e+08, 1.69775114e+08, 1.17592440e+08, 1.51033093e+08,\n",
       "        1.55697171e+08, 1.24666725e+08, 1.93785511e+08, 1.81494214e+08,\n",
       "        1.49408538e+08, 7.75039460e+07]),\n",
       " 'rank_test_score': array([18, 15,  8, 14,  9,  3, 16,  7,  1, 13,  6,  2, 17, 11, 12,  5, 10,\n",
       "         4])}"
      ]
     },
     "execution_count": 69,
     "metadata": {},
     "output_type": "execute_result"
    }
   ],
   "source": [
    "d"
   ]
  },
  {
   "cell_type": "code",
   "execution_count": 70,
   "metadata": {},
   "outputs": [
    {
     "name": "stdout",
     "output_type": "stream",
     "text": [
      "grid_searh best estimator :\n",
      "RandomForestRegressor(bootstrap=True, criterion='mse', max_depth=None,\n",
      "                      max_features=6, max_leaf_nodes=None,\n",
      "                      min_impurity_decrease=0.0, min_impurity_split=None,\n",
      "                      min_samples_leaf=1, min_samples_split=2,\n",
      "                      min_weight_fraction_leaf=0.0, n_estimators=30,\n",
      "                      n_jobs=None, oob_score=False, random_state=None,\n",
      "                      verbose=0, warm_start=False)\n"
     ]
    }
   ],
   "source": [
    "print('grid_searh best estimator :')\n",
    "print(grid_search.best_estimator_)"
   ]
  },
  {
   "cell_type": "code",
   "execution_count": 71,
   "metadata": {},
   "outputs": [
    {
     "data": {
      "text/plain": [
       "-2489751741.603958"
      ]
     },
     "execution_count": 71,
     "metadata": {},
     "output_type": "execute_result"
    }
   ],
   "source": [
    "best_score = grid_search.best_score_\n",
    "best_score"
   ]
  },
  {
   "cell_type": "code",
   "execution_count": 72,
   "metadata": {},
   "outputs": [
    {
     "data": {
      "text/plain": [
       "49897.41217341795"
      ]
     },
     "execution_count": 72,
     "metadata": {},
     "output_type": "execute_result"
    }
   ],
   "source": [
    "rmse_best_score = np.sqrt(- best_score)\n",
    "rmse_best_score"
   ]
  },
  {
   "cell_type": "code",
   "execution_count": 73,
   "metadata": {},
   "outputs": [
    {
     "data": {
      "text/plain": [
       "array([262916.66666667, 314743.33333333, 217820.        ,  49706.66666667,\n",
       "       234020.        ])"
      ]
     },
     "execution_count": 73,
     "metadata": {},
     "output_type": "execute_result"
    }
   ],
   "source": [
    "best_estimator = grid_search.best_estimator_\n",
    "best_estimator.predict(some_data_pre)"
   ]
  },
  {
   "cell_type": "code",
   "execution_count": 74,
   "metadata": {},
   "outputs": [
    {
     "data": {
      "text/plain": [
       "17606    286600.0\n",
       "18632    340600.0\n",
       "14650    196900.0\n",
       "3230      46300.0\n",
       "3555     254500.0\n",
       "Name: median_house_value, dtype: float64"
      ]
     },
     "execution_count": 74,
     "metadata": {},
     "output_type": "execute_result"
    }
   ],
   "source": [
    "some_labels"
   ]
  },
  {
   "cell_type": "code",
   "execution_count": 75,
   "metadata": {},
   "outputs": [
    {
     "data": {
      "text/plain": [
       "8"
      ]
     },
     "execution_count": 75,
     "metadata": {},
     "output_type": "execute_result"
    }
   ],
   "source": [
    "grid_search.best_index_"
   ]
  },
  {
   "cell_type": "code",
   "execution_count": 76,
   "metadata": {},
   "outputs": [
    {
     "data": {
      "text/plain": [
       "make_scorer(mean_squared_error, greater_is_better=False)"
      ]
     },
     "execution_count": 76,
     "metadata": {},
     "output_type": "execute_result"
    }
   ],
   "source": [
    "grid_search.scorer_"
   ]
  },
  {
   "cell_type": "code",
   "execution_count": 77,
   "metadata": {},
   "outputs": [
    {
     "data": {
      "text/plain": [
       "array([7.37559828e-02, 6.50388904e-02, 4.30616494e-02, 1.83664067e-02,\n",
       "       1.65660570e-02, 1.82118266e-02, 1.61707092e-02, 2.97853647e-01,\n",
       "       6.50791433e-02, 1.09645780e-01, 8.37958895e-02, 1.04353624e-02,\n",
       "       1.72191063e-01, 1.23563908e-04, 4.77826304e-03, 4.92576559e-03])"
      ]
     },
     "execution_count": 77,
     "metadata": {},
     "output_type": "execute_result"
    }
   ],
   "source": [
    "feature_importance = best_estimator.feature_importances_\n",
    "feature_importance"
   ]
  },
  {
   "cell_type": "code",
   "execution_count": 78,
   "metadata": {},
   "outputs": [
    {
     "data": {
      "text/plain": [
       "(16,)"
      ]
     },
     "execution_count": 78,
     "metadata": {},
     "output_type": "execute_result"
    }
   ],
   "source": [
    "feature_importance.shape"
   ]
  },
  {
   "cell_type": "code",
   "execution_count": 79,
   "metadata": {},
   "outputs": [
    {
     "data": {
      "text/plain": [
       "(16512, 8)"
      ]
     },
     "execution_count": 79,
     "metadata": {},
     "output_type": "execute_result"
    }
   ],
   "source": [
    "housing_num.shape"
   ]
  },
  {
   "cell_type": "code",
   "execution_count": 80,
   "metadata": {},
   "outputs": [],
   "source": [
    "cat_attributes_encoded  = LabelBinarizer().fit(housing['ocean_proximity']).classes_\n",
    "labels = list(housing_num) + ['rooms_per_household','population_per_household','bedrooms_per_rooms'] + list(cat_attributes_encoded)"
   ]
  },
  {
   "cell_type": "code",
   "execution_count": 81,
   "metadata": {},
   "outputs": [
    {
     "data": {
      "text/plain": [
       "['<1H OCEAN', 'INLAND', 'ISLAND', 'NEAR BAY', 'NEAR OCEAN']"
      ]
     },
     "execution_count": 81,
     "metadata": {},
     "output_type": "execute_result"
    }
   ],
   "source": [
    "list(cat_attributes_encoded)"
   ]
  },
  {
   "cell_type": "code",
   "execution_count": 82,
   "metadata": {},
   "outputs": [
    {
     "data": {
      "text/plain": [
       "longitude                   0.073756\n",
       "latitude                    0.065039\n",
       "housing_median_age          0.043062\n",
       "total_rooms                 0.018366\n",
       "total_bedrooms              0.016566\n",
       "population                  0.018212\n",
       "households                  0.016171\n",
       "median_income               0.297854\n",
       "rooms_per_household         0.065079\n",
       "population_per_household    0.109646\n",
       "bedrooms_per_rooms          0.083796\n",
       "<1H OCEAN                   0.010435\n",
       "INLAND                      0.172191\n",
       "ISLAND                      0.000124\n",
       "NEAR BAY                    0.004778\n",
       "NEAR OCEAN                  0.004926\n",
       "dtype: float64"
      ]
     },
     "execution_count": 82,
     "metadata": {},
     "output_type": "execute_result"
    }
   ],
   "source": [
    "s = pd.Series(feature_importance ,index = labels)\n",
    "s"
   ]
  },
  {
   "cell_type": "code",
   "execution_count": 83,
   "metadata": {},
   "outputs": [
    {
     "data": {
      "text/plain": [
       "<matplotlib.axes._subplots.AxesSubplot at 0x213610da6c8>"
      ]
     },
     "execution_count": 83,
     "metadata": {},
     "output_type": "execute_result"
    },
    {
     "data": {
      "image/png": "[encoded data removed]",
      "text/plain": [
       "<Figure size 432x288 with 1 Axes>"
      ]
     },
     "metadata": {
      "needs_background": "light"
     },
     "output_type": "display_data"
    }
   ],
   "source": [
    "%matplotlib inline\n",
    "s.sort_values(inplace = True,ascending =False)\n",
    "s.plot(kind = 'barh')"
   ]
  },
  {
   "cell_type": "code",
   "execution_count": 84,
   "metadata": {},
   "outputs": [
    {
     "data": {
      "text/plain": [
       "array([-1.17602483,  0.6596948 , -1.1653172 , -0.90896655, -1.03960649,\n",
       "       -0.99833135, -1.02222705,  1.33645936,  0.21768338, -0.03353391,\n",
       "       -0.78819259,  1.        ,  0.        ,  0.        ,  0.        ,\n",
       "        0.        ])"
      ]
     },
     "execution_count": 84,
     "metadata": {},
     "output_type": "execute_result"
    }
   ],
   "source": [
    "cpy_housing_pre = housing_pre.copy()\n",
    "cpy_housing_pre[1]"
   ]
  },
  {
   "cell_type": "code",
   "execution_count": 85,
   "metadata": {},
   "outputs": [
    {
     "data": {
      "text/plain": [
       "(16512, 13)"
      ]
     },
     "execution_count": 85,
     "metadata": {},
     "output_type": "execute_result"
    }
   ],
   "source": [
    "pre_data =np.delete(cpy_housing_pre,[13,14,15],axis =1)\n",
    "pre_data.shape"
   ]
  },
  {
   "cell_type": "code",
   "execution_count": 86,
   "metadata": {},
   "outputs": [
    {
     "data": {
      "text/plain": [
       "array([-1.15604281,  0.77194962,  0.74333089, -0.49323393, -0.44794413,\n",
       "       -0.63621141, -0.42069842, -0.61493744, -0.31205452, -0.08649871,\n",
       "        0.1349975 ,  1.        ,  0.        ])"
      ]
     },
     "execution_count": 86,
     "metadata": {},
     "output_type": "execute_result"
    }
   ],
   "source": [
    "pre_data[0]"
   ]
  },
  {
   "cell_type": "code",
   "execution_count": 87,
   "metadata": {},
   "outputs": [
    {
     "data": {
      "text/plain": [
       "array([270383.33333333, 330043.33333333, 224806.66666667,  51226.66666667,\n",
       "       224276.66666667])"
      ]
     },
     "execution_count": 87,
     "metadata": {},
     "output_type": "execute_result"
    }
   ],
   "source": [
    "forest_regressor = RandomForestRegressor(n_estimators =30,max_features =6) \n",
    "forest_regressor.fit(pre_data,housing_labels)\n",
    "data = pre_data[:5,:]\n",
    "forest_regressor.predict(data)"
   ]
  },
  {
   "cell_type": "code",
   "execution_count": 88,
   "metadata": {},
   "outputs": [
    {
     "data": {
      "text/plain": [
       "(5, 13)"
      ]
     },
     "execution_count": 88,
     "metadata": {},
     "output_type": "execute_result"
    }
   ],
   "source": [
    "data =pre_data[:5,:]\n",
    "data.shape"
   ]
  },
  {
   "cell_type": "code",
   "execution_count": 89,
   "metadata": {},
   "outputs": [
    {
     "data": {
      "text/plain": [
       "17606    286600.0\n",
       "18632    340600.0\n",
       "14650    196900.0\n",
       "3230      46300.0\n",
       "3555     254500.0\n",
       "Name: median_house_value, dtype: float64"
      ]
     },
     "execution_count": 89,
     "metadata": {},
     "output_type": "execute_result"
    }
   ],
   "source": [
    "housing_labels[:5]"
   ]
  },
  {
   "cell_type": "code",
   "execution_count": 90,
   "metadata": {},
   "outputs": [
    {
     "data": {
      "text/plain": [
       "array([275990., 340340., 217470.,  50660., 223330.])"
      ]
     },
     "execution_count": 90,
     "metadata": {},
     "output_type": "execute_result"
    }
   ],
   "source": [
    "forest_reg.predict(some_data_pre)"
   ]
  },
  {
   "cell_type": "code",
   "execution_count": 91,
   "metadata": {},
   "outputs": [],
   "source": [
    "from sklearn.metrics import mean_squared_error\n",
    "forest_reg_pred = forest_reg.predict(housing_pre)\n",
    "forest_regressor_pre = forest_regressor.predict(pre_data)\n",
    "mse1 = mean_squared_error(housing_labels,forest_reg_pred)\n",
    "mse2= mean_squared_error(housing_labels,forest_regressor_pre)"
   ]
  },
  {
   "cell_type": "code",
   "execution_count": 92,
   "metadata": {},
   "outputs": [
    {
     "name": "stdout",
     "output_type": "stream",
     "text": [
      "22583.064139468872 19332.360148144624\n"
     ]
    }
   ],
   "source": [
    "print(np.sqrt(mse1),np.sqrt(mse2))"
   ]
  },
  {
   "cell_type": "code",
   "execution_count": 95,
   "metadata": {},
   "outputs": [],
   "source": [
    "score_forest_regressor_pre = cross_val_score(forest_regressor,pre_data,housing_labels,cv=10,scoring = 'neg_mean_squared_error')\n"
   ]
  },
  {
   "cell_type": "code",
   "execution_count": 96,
   "metadata": {},
   "outputs": [
    {
     "data": {
      "text/plain": [
       "array([-2.44071415e+09, -2.32076091e+09, -2.43116010e+09, -2.66488340e+09,\n",
       "       -2.35097663e+09, -2.90541961e+09, -2.27909915e+09, -2.29475234e+09,\n",
       "       -2.80653330e+09, -2.45979207e+09])"
      ]
     },
     "execution_count": 96,
     "metadata": {},
     "output_type": "execute_result"
    }
   ],
   "source": [
    "score_forest_regressor_pre"
   ]
  },
  {
   "cell_type": "code",
   "execution_count": 99,
   "metadata": {},
   "outputs": [
    {
     "data": {
      "text/plain": [
       "array([49403.58435966, 48174.27646926, 49306.79563966, 51622.5086522 ,\n",
       "       48486.87074571, 53901.94436467, 47739.91152505, 47903.57331071,\n",
       "       52976.72416287, 49596.29087072])"
      ]
     },
     "execution_count": 99,
     "metadata": {},
     "output_type": "execute_result"
    }
   ],
   "source": [
    "rmse_forest_regressor = np.sqrt(-score_forest_regressor_pre)\n",
    "rmse_forest_regressor"
   ]
  },
  {
   "cell_type": "code",
   "execution_count": 100,
   "metadata": {},
   "outputs": [
    {
     "data": {
      "text/plain": [
       "49911.248010050644"
      ]
     },
     "execution_count": 100,
     "metadata": {},
     "output_type": "execute_result"
    }
   ],
   "source": [
    "rmse_forest_regressor.mean()"
   ]
  },
  {
   "cell_type": "code",
   "execution_count": 101,
   "metadata": {},
   "outputs": [
    {
     "data": {
      "text/plain": [
       "2067.9670700326787"
      ]
     },
     "execution_count": 101,
     "metadata": {},
     "output_type": "execute_result"
    }
   ],
   "source": [
    "rmse_forest_regressor.std()"
   ]
  },
  {
   "cell_type": "code",
   "execution_count": 102,
   "metadata": {},
   "outputs": [
    {
     "data": {
      "text/plain": [
       "array([-2.37495148e+09, -2.18166886e+09, -2.46038597e+09, -2.64105331e+09,\n",
       "       -2.47144662e+09, -2.78139604e+09, -2.32999189e+09, -2.34350797e+09,\n",
       "       -2.69075868e+09, -2.40933073e+09])"
      ]
     },
     "execution_count": 102,
     "metadata": {},
     "output_type": "execute_result"
    }
   ],
   "source": [
    "score_best_estimator= cross_val_score(best_estimator , housing_pre,housing_labels,cv =10,scoring = 'neg_mean_squared_error')\n",
    "score_best_estimator"
   ]
  },
  {
   "cell_type": "code",
   "execution_count": 103,
   "metadata": {},
   "outputs": [
    {
     "data": {
      "text/plain": [
       "array([48733.47394418, 46708.33821867, 49602.27791316, 51391.17933127,\n",
       "       49713.64622897, 52738.94231874, 48269.98949928, 48409.79207288,\n",
       "       51872.52335668, 49084.93383893])"
      ]
     },
     "execution_count": 103,
     "metadata": {},
     "output_type": "execute_result"
    }
   ],
   "source": [
    "rmse_score_best_estmator = np.sqrt(-score_best_estimator)\n",
    "rmse_score_best_estmator"
   ]
  },
  {
   "cell_type": "code",
   "execution_count": 104,
   "metadata": {},
   "outputs": [
    {
     "data": {
      "text/plain": [
       "49652.50967227576"
      ]
     },
     "execution_count": 104,
     "metadata": {},
     "output_type": "execute_result"
    }
   ],
   "source": [
    "rmse_score_best_estmator.mean()"
   ]
  },
  {
   "cell_type": "code",
   "execution_count": 105,
   "metadata": {},
   "outputs": [
    {
     "data": {
      "text/plain": [
       "1754.262920326286"
      ]
     },
     "execution_count": 105,
     "metadata": {},
     "output_type": "execute_result"
    }
   ],
   "source": [
    "rmse_score_best_estmator.std()"
   ]
  },
  {
   "cell_type": "markdown",
   "metadata": {},
   "source": [
    "hence best model is best estimator"
   ]
  },
  {
   "cell_type": "markdown",
   "metadata": {},
   "source": [
    "# Testing model on Test_set"
   ]
  },
  {
   "cell_type": "code",
   "execution_count": 106,
   "metadata": {},
   "outputs": [],
   "source": [
    "final_model = best_estimator"
   ]
  },
  {
   "cell_type": "code",
   "execution_count": 118,
   "metadata": {},
   "outputs": [],
   "source": [
    "x_test = test_set.drop('median_house_value',axis =1)\n",
    "y_test = test_set['median_house_value']"
   ]
  },
  {
   "cell_type": "code",
   "execution_count": 119,
   "metadata": {},
   "outputs": [
    {
     "data": {
      "text/html": [
       "<div>\n",
       "<style scoped>\n",
       "    .dataframe tbody tr th:only-of-type {\n",
       "        vertical-align: middle;\n",
       "    }\n",
       "\n",
       "    .dataframe tbody tr th {\n",
       "        vertical-align: top;\n",
       "    }\n",
       "\n",
       "    .dataframe thead th {\n",
       "        text-align: right;\n",
       "    }\n",
       "</style>\n",
       "<table border=\"1\" class=\"dataframe\">\n",
       "  <thead>\n",
       "    <tr style=\"text-align: right;\">\n",
       "      <th></th>\n",
       "      <th>longitude</th>\n",
       "      <th>latitude</th>\n",
       "      <th>housing_median_age</th>\n",
       "      <th>total_rooms</th>\n",
       "      <th>total_bedrooms</th>\n",
       "      <th>population</th>\n",
       "      <th>households</th>\n",
       "      <th>median_income</th>\n",
       "      <th>ocean_proximity</th>\n",
       "    </tr>\n",
       "  </thead>\n",
       "  <tbody>\n",
       "    <tr>\n",
       "      <td>5241</td>\n",
       "      <td>-118.39</td>\n",
       "      <td>34.12</td>\n",
       "      <td>29.0</td>\n",
       "      <td>6447.0</td>\n",
       "      <td>1012.0</td>\n",
       "      <td>2184.0</td>\n",
       "      <td>960.0</td>\n",
       "      <td>8.2816</td>\n",
       "      <td>&lt;1H OCEAN</td>\n",
       "    </tr>\n",
       "    <tr>\n",
       "      <td>10970</td>\n",
       "      <td>-117.86</td>\n",
       "      <td>33.77</td>\n",
       "      <td>39.0</td>\n",
       "      <td>4159.0</td>\n",
       "      <td>655.0</td>\n",
       "      <td>1669.0</td>\n",
       "      <td>651.0</td>\n",
       "      <td>4.6111</td>\n",
       "      <td>&lt;1H OCEAN</td>\n",
       "    </tr>\n",
       "    <tr>\n",
       "      <td>20351</td>\n",
       "      <td>-119.05</td>\n",
       "      <td>34.21</td>\n",
       "      <td>27.0</td>\n",
       "      <td>4357.0</td>\n",
       "      <td>926.0</td>\n",
       "      <td>2110.0</td>\n",
       "      <td>876.0</td>\n",
       "      <td>3.0119</td>\n",
       "      <td>&lt;1H OCEAN</td>\n",
       "    </tr>\n",
       "    <tr>\n",
       "      <td>6568</td>\n",
       "      <td>-118.15</td>\n",
       "      <td>34.20</td>\n",
       "      <td>52.0</td>\n",
       "      <td>1786.0</td>\n",
       "      <td>306.0</td>\n",
       "      <td>1018.0</td>\n",
       "      <td>322.0</td>\n",
       "      <td>4.1518</td>\n",
       "      <td>INLAND</td>\n",
       "    </tr>\n",
       "    <tr>\n",
       "      <td>13285</td>\n",
       "      <td>-117.68</td>\n",
       "      <td>34.07</td>\n",
       "      <td>32.0</td>\n",
       "      <td>1775.0</td>\n",
       "      <td>314.0</td>\n",
       "      <td>1067.0</td>\n",
       "      <td>302.0</td>\n",
       "      <td>4.0375</td>\n",
       "      <td>INLAND</td>\n",
       "    </tr>\n",
       "  </tbody>\n",
       "</table>\n",
       "</div>"
      ],
      "text/plain": [
       "       longitude  latitude  housing_median_age  total_rooms  total_bedrooms  \\\n",
       "5241     -118.39     34.12                29.0       6447.0          1012.0   \n",
       "10970    -117.86     33.77                39.0       4159.0           655.0   \n",
       "20351    -119.05     34.21                27.0       4357.0           926.0   \n",
       "6568     -118.15     34.20                52.0       1786.0           306.0   \n",
       "13285    -117.68     34.07                32.0       1775.0           314.0   \n",
       "\n",
       "       population  households  median_income ocean_proximity  \n",
       "5241       2184.0       960.0         8.2816       <1H OCEAN  \n",
       "10970      1669.0       651.0         4.6111       <1H OCEAN  \n",
       "20351      2110.0       876.0         3.0119       <1H OCEAN  \n",
       "6568       1018.0       322.0         4.1518          INLAND  \n",
       "13285      1067.0       302.0         4.0375          INLAND  "
      ]
     },
     "execution_count": 119,
     "metadata": {},
     "output_type": "execute_result"
    }
   ],
   "source": [
    "x_test.head()"
   ]
  },
  {
   "cell_type": "code",
   "execution_count": 120,
   "metadata": {},
   "outputs": [
    {
     "data": {
      "text/plain": [
       "5241     500001.0\n",
       "10970    240300.0\n",
       "20351    218200.0\n",
       "6568     182100.0\n",
       "13285    121300.0\n",
       "Name: median_house_value, dtype: float64"
      ]
     },
     "execution_count": 120,
     "metadata": {},
     "output_type": "execute_result"
    }
   ],
   "source": [
    "y_test.head()"
   ]
  },
  {
   "cell_type": "code",
   "execution_count": 149,
   "metadata": {},
   "outputs": [
    {
     "data": {
      "text/plain": [
       "array([[ 0.59238393, -0.71074948,  0.02758786, ...,  0.        ,\n",
       "         0.        ,  0.        ],\n",
       "       [ 0.8571457 , -0.87445443,  0.8228579 , ...,  0.        ,\n",
       "         0.        ,  0.        ],\n",
       "       [ 0.26268061, -0.66865392, -0.13146615, ...,  0.        ,\n",
       "         0.        ,  0.        ],\n",
       "       ...,\n",
       "       [ 0.54242889, -0.68268578,  0.18664186, ...,  0.        ,\n",
       "         0.        ,  0.        ],\n",
       "       [ 1.12690297, -0.77155418, -0.13146615, ...,  0.        ,\n",
       "         0.        ,  0.        ],\n",
       "       [ 0.33261768,  0.53808541, -0.76768218, ...,  0.        ,\n",
       "         0.        ,  0.        ]])"
      ]
     },
     "execution_count": 149,
     "metadata": {},
     "output_type": "execute_result"
    }
   ],
   "source": [
    "x_test_pre = full_pipeline.transform(x_test)\n",
    "x_test_pre"
   ]
  },
  {
   "cell_type": "code",
   "execution_count": 150,
   "metadata": {},
   "outputs": [
    {
     "data": {
      "text/plain": [
       "array([496520.9       , 266806.66666667, 217536.66666667, ...,\n",
       "       324816.76666667, 181263.33333333, 124936.66666667])"
      ]
     },
     "execution_count": 150,
     "metadata": {},
     "output_type": "execute_result"
    }
   ],
   "source": [
    "final_model_pre = final_model.predict(x_test_pre)\n",
    "final_model_pre"
   ]
  },
  {
   "cell_type": "code",
   "execution_count": 151,
   "metadata": {},
   "outputs": [],
   "source": [
    "mse_final_model = mean_squared_error(y_test,final_model_pre)\n",
    "rmse_final_model = np.sqrt(mse_final_model)"
   ]
  },
  {
   "cell_type": "code",
   "execution_count": 152,
   "metadata": {},
   "outputs": [
    {
     "data": {
      "text/plain": [
       "48303.98443253118"
      ]
     },
     "execution_count": 152,
     "metadata": {},
     "output_type": "execute_result"
    }
   ],
   "source": [
    "rmse_final_model"
   ]
  },
  {
   "cell_type": "code",
   "execution_count": 153,
   "metadata": {},
   "outputs": [
    {
     "data": {
      "text/plain": [
       "2333274912.058214"
      ]
     },
     "execution_count": 153,
     "metadata": {},
     "output_type": "execute_result"
    }
   ],
   "source": [
    "mse_final_model"
   ]
  },
  {
   "cell_type": "code",
   "execution_count": 154,
   "metadata": {},
   "outputs": [
    {
     "data": {
      "text/plain": [
       "500001.0"
      ]
     },
     "execution_count": 154,
     "metadata": {},
     "output_type": "execute_result"
    }
   ],
   "source": [
    "final_model_pre.max()"
   ]
  },
  {
   "cell_type": "code",
   "execution_count": 159,
   "metadata": {},
   "outputs": [
    {
     "data": {
      "text/plain": [
       "14999.0"
      ]
     },
     "execution_count": 159,
     "metadata": {},
     "output_type": "execute_result"
    }
   ],
   "source": []
  },
  {
   "cell_type": "code",
   "execution_count": null,
   "metadata": {},
   "outputs": [],
   "source": []
  }
 ],
 "metadata": {
  "kernelspec": {
   "display_name": "Python 3",
   "language": "python",
   "name": "python3"
  },
  "language_info": {
   "codemirror_mode": {
    "name": "ipython",
    "version": 3
   },
   "file_extension": ".py",
   "mimetype": "text/x-python",
   "name": "python",
   "nbconvert_exporter": "python",
   "pygments_lexer": "ipython3",
   "version": "3.7.4"
  }
 },
 "nbformat": 4,
 "nbformat_minor": 2
}
